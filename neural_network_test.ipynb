{
  "nbformat": 4,
  "nbformat_minor": 0,
  "metadata": {
    "colab": {
      "provenance": []
    },
    "kernelspec": {
      "name": "python3",
      "display_name": "Python 3"
    },
    "language_info": {
      "name": "python"
    }
  },
  "cells": [
    {
      "cell_type": "code",
      "execution_count": null,
      "metadata": {
        "id": "a7Ikop9Ea624"
      },
      "outputs": [],
      "source": [
        "import numpy as np\n",
        "import pandas as pd\n",
        "from matplotlib import pyplot as plt\n"
      ]
    },
    {
      "cell_type": "code",
      "source": [
        "data = pd.read_csv('digit_data.csv')\n",
        "data"
      ],
      "metadata": {
        "colab": {
          "base_uri": "https://localhost:8080/",
          "height": 443
        },
        "id": "ihkhwROUsK3M",
        "outputId": "e9c114dc-fadd-458f-d343-e62ae637229e"
      },
      "execution_count": null,
      "outputs": [
        {
          "output_type": "execute_result",
          "data": {
            "text/plain": [
              "       label  pixel0  pixel1  pixel2  pixel3  pixel4  pixel5  pixel6  pixel7  \\\n",
              "0          1       0       0       0       0       0       0       0       0   \n",
              "1          0       0       0       0       0       0       0       0       0   \n",
              "2          1       0       0       0       0       0       0       0       0   \n",
              "3          4       0       0       0       0       0       0       0       0   \n",
              "4          0       0       0       0       0       0       0       0       0   \n",
              "...      ...     ...     ...     ...     ...     ...     ...     ...     ...   \n",
              "41995      0       0       0       0       0       0       0       0       0   \n",
              "41996      1       0       0       0       0       0       0       0       0   \n",
              "41997      7       0       0       0       0       0       0       0       0   \n",
              "41998      6       0       0       0       0       0       0       0       0   \n",
              "41999      9       0       0       0       0       0       0       0       0   \n",
              "\n",
              "       pixel8  ...  pixel774  pixel775  pixel776  pixel777  pixel778  \\\n",
              "0           0  ...         0         0         0         0         0   \n",
              "1           0  ...         0         0         0         0         0   \n",
              "2           0  ...         0         0         0         0         0   \n",
              "3           0  ...         0         0         0         0         0   \n",
              "4           0  ...         0         0         0         0         0   \n",
              "...       ...  ...       ...       ...       ...       ...       ...   \n",
              "41995       0  ...         0         0         0         0         0   \n",
              "41996       0  ...         0         0         0         0         0   \n",
              "41997       0  ...         0         0         0         0         0   \n",
              "41998       0  ...         0         0         0         0         0   \n",
              "41999       0  ...         0         0         0         0         0   \n",
              "\n",
              "       pixel779  pixel780  pixel781  pixel782  pixel783  \n",
              "0             0         0         0         0         0  \n",
              "1             0         0         0         0         0  \n",
              "2             0         0         0         0         0  \n",
              "3             0         0         0         0         0  \n",
              "4             0         0         0         0         0  \n",
              "...         ...       ...       ...       ...       ...  \n",
              "41995         0         0         0         0         0  \n",
              "41996         0         0         0         0         0  \n",
              "41997         0         0         0         0         0  \n",
              "41998         0         0         0         0         0  \n",
              "41999         0         0         0         0         0  \n",
              "\n",
              "[42000 rows x 785 columns]"
            ],
            "text/html": [
              "\n",
              "  <div id=\"df-df927b52-be0f-40ca-b8b2-5f7ff0cc68c3\" class=\"colab-df-container\">\n",
              "    <div>\n",
              "<style scoped>\n",
              "    .dataframe tbody tr th:only-of-type {\n",
              "        vertical-align: middle;\n",
              "    }\n",
              "\n",
              "    .dataframe tbody tr th {\n",
              "        vertical-align: top;\n",
              "    }\n",
              "\n",
              "    .dataframe thead th {\n",
              "        text-align: right;\n",
              "    }\n",
              "</style>\n",
              "<table border=\"1\" class=\"dataframe\">\n",
              "  <thead>\n",
              "    <tr style=\"text-align: right;\">\n",
              "      <th></th>\n",
              "      <th>label</th>\n",
              "      <th>pixel0</th>\n",
              "      <th>pixel1</th>\n",
              "      <th>pixel2</th>\n",
              "      <th>pixel3</th>\n",
              "      <th>pixel4</th>\n",
              "      <th>pixel5</th>\n",
              "      <th>pixel6</th>\n",
              "      <th>pixel7</th>\n",
              "      <th>pixel8</th>\n",
              "      <th>...</th>\n",
              "      <th>pixel774</th>\n",
              "      <th>pixel775</th>\n",
              "      <th>pixel776</th>\n",
              "      <th>pixel777</th>\n",
              "      <th>pixel778</th>\n",
              "      <th>pixel779</th>\n",
              "      <th>pixel780</th>\n",
              "      <th>pixel781</th>\n",
              "      <th>pixel782</th>\n",
              "      <th>pixel783</th>\n",
              "    </tr>\n",
              "  </thead>\n",
              "  <tbody>\n",
              "    <tr>\n",
              "      <th>0</th>\n",
              "      <td>1</td>\n",
              "      <td>0</td>\n",
              "      <td>0</td>\n",
              "      <td>0</td>\n",
              "      <td>0</td>\n",
              "      <td>0</td>\n",
              "      <td>0</td>\n",
              "      <td>0</td>\n",
              "      <td>0</td>\n",
              "      <td>0</td>\n",
              "      <td>...</td>\n",
              "      <td>0</td>\n",
              "      <td>0</td>\n",
              "      <td>0</td>\n",
              "      <td>0</td>\n",
              "      <td>0</td>\n",
              "      <td>0</td>\n",
              "      <td>0</td>\n",
              "      <td>0</td>\n",
              "      <td>0</td>\n",
              "      <td>0</td>\n",
              "    </tr>\n",
              "    <tr>\n",
              "      <th>1</th>\n",
              "      <td>0</td>\n",
              "      <td>0</td>\n",
              "      <td>0</td>\n",
              "      <td>0</td>\n",
              "      <td>0</td>\n",
              "      <td>0</td>\n",
              "      <td>0</td>\n",
              "      <td>0</td>\n",
              "      <td>0</td>\n",
              "      <td>0</td>\n",
              "      <td>...</td>\n",
              "      <td>0</td>\n",
              "      <td>0</td>\n",
              "      <td>0</td>\n",
              "      <td>0</td>\n",
              "      <td>0</td>\n",
              "      <td>0</td>\n",
              "      <td>0</td>\n",
              "      <td>0</td>\n",
              "      <td>0</td>\n",
              "      <td>0</td>\n",
              "    </tr>\n",
              "    <tr>\n",
              "      <th>2</th>\n",
              "      <td>1</td>\n",
              "      <td>0</td>\n",
              "      <td>0</td>\n",
              "      <td>0</td>\n",
              "      <td>0</td>\n",
              "      <td>0</td>\n",
              "      <td>0</td>\n",
              "      <td>0</td>\n",
              "      <td>0</td>\n",
              "      <td>0</td>\n",
              "      <td>...</td>\n",
              "      <td>0</td>\n",
              "      <td>0</td>\n",
              "      <td>0</td>\n",
              "      <td>0</td>\n",
              "      <td>0</td>\n",
              "      <td>0</td>\n",
              "      <td>0</td>\n",
              "      <td>0</td>\n",
              "      <td>0</td>\n",
              "      <td>0</td>\n",
              "    </tr>\n",
              "    <tr>\n",
              "      <th>3</th>\n",
              "      <td>4</td>\n",
              "      <td>0</td>\n",
              "      <td>0</td>\n",
              "      <td>0</td>\n",
              "      <td>0</td>\n",
              "      <td>0</td>\n",
              "      <td>0</td>\n",
              "      <td>0</td>\n",
              "      <td>0</td>\n",
              "      <td>0</td>\n",
              "      <td>...</td>\n",
              "      <td>0</td>\n",
              "      <td>0</td>\n",
              "      <td>0</td>\n",
              "      <td>0</td>\n",
              "      <td>0</td>\n",
              "      <td>0</td>\n",
              "      <td>0</td>\n",
              "      <td>0</td>\n",
              "      <td>0</td>\n",
              "      <td>0</td>\n",
              "    </tr>\n",
              "    <tr>\n",
              "      <th>4</th>\n",
              "      <td>0</td>\n",
              "      <td>0</td>\n",
              "      <td>0</td>\n",
              "      <td>0</td>\n",
              "      <td>0</td>\n",
              "      <td>0</td>\n",
              "      <td>0</td>\n",
              "      <td>0</td>\n",
              "      <td>0</td>\n",
              "      <td>0</td>\n",
              "      <td>...</td>\n",
              "      <td>0</td>\n",
              "      <td>0</td>\n",
              "      <td>0</td>\n",
              "      <td>0</td>\n",
              "      <td>0</td>\n",
              "      <td>0</td>\n",
              "      <td>0</td>\n",
              "      <td>0</td>\n",
              "      <td>0</td>\n",
              "      <td>0</td>\n",
              "    </tr>\n",
              "    <tr>\n",
              "      <th>...</th>\n",
              "      <td>...</td>\n",
              "      <td>...</td>\n",
              "      <td>...</td>\n",
              "      <td>...</td>\n",
              "      <td>...</td>\n",
              "      <td>...</td>\n",
              "      <td>...</td>\n",
              "      <td>...</td>\n",
              "      <td>...</td>\n",
              "      <td>...</td>\n",
              "      <td>...</td>\n",
              "      <td>...</td>\n",
              "      <td>...</td>\n",
              "      <td>...</td>\n",
              "      <td>...</td>\n",
              "      <td>...</td>\n",
              "      <td>...</td>\n",
              "      <td>...</td>\n",
              "      <td>...</td>\n",
              "      <td>...</td>\n",
              "      <td>...</td>\n",
              "    </tr>\n",
              "    <tr>\n",
              "      <th>41995</th>\n",
              "      <td>0</td>\n",
              "      <td>0</td>\n",
              "      <td>0</td>\n",
              "      <td>0</td>\n",
              "      <td>0</td>\n",
              "      <td>0</td>\n",
              "      <td>0</td>\n",
              "      <td>0</td>\n",
              "      <td>0</td>\n",
              "      <td>0</td>\n",
              "      <td>...</td>\n",
              "      <td>0</td>\n",
              "      <td>0</td>\n",
              "      <td>0</td>\n",
              "      <td>0</td>\n",
              "      <td>0</td>\n",
              "      <td>0</td>\n",
              "      <td>0</td>\n",
              "      <td>0</td>\n",
              "      <td>0</td>\n",
              "      <td>0</td>\n",
              "    </tr>\n",
              "    <tr>\n",
              "      <th>41996</th>\n",
              "      <td>1</td>\n",
              "      <td>0</td>\n",
              "      <td>0</td>\n",
              "      <td>0</td>\n",
              "      <td>0</td>\n",
              "      <td>0</td>\n",
              "      <td>0</td>\n",
              "      <td>0</td>\n",
              "      <td>0</td>\n",
              "      <td>0</td>\n",
              "      <td>...</td>\n",
              "      <td>0</td>\n",
              "      <td>0</td>\n",
              "      <td>0</td>\n",
              "      <td>0</td>\n",
              "      <td>0</td>\n",
              "      <td>0</td>\n",
              "      <td>0</td>\n",
              "      <td>0</td>\n",
              "      <td>0</td>\n",
              "      <td>0</td>\n",
              "    </tr>\n",
              "    <tr>\n",
              "      <th>41997</th>\n",
              "      <td>7</td>\n",
              "      <td>0</td>\n",
              "      <td>0</td>\n",
              "      <td>0</td>\n",
              "      <td>0</td>\n",
              "      <td>0</td>\n",
              "      <td>0</td>\n",
              "      <td>0</td>\n",
              "      <td>0</td>\n",
              "      <td>0</td>\n",
              "      <td>...</td>\n",
              "      <td>0</td>\n",
              "      <td>0</td>\n",
              "      <td>0</td>\n",
              "      <td>0</td>\n",
              "      <td>0</td>\n",
              "      <td>0</td>\n",
              "      <td>0</td>\n",
              "      <td>0</td>\n",
              "      <td>0</td>\n",
              "      <td>0</td>\n",
              "    </tr>\n",
              "    <tr>\n",
              "      <th>41998</th>\n",
              "      <td>6</td>\n",
              "      <td>0</td>\n",
              "      <td>0</td>\n",
              "      <td>0</td>\n",
              "      <td>0</td>\n",
              "      <td>0</td>\n",
              "      <td>0</td>\n",
              "      <td>0</td>\n",
              "      <td>0</td>\n",
              "      <td>0</td>\n",
              "      <td>...</td>\n",
              "      <td>0</td>\n",
              "      <td>0</td>\n",
              "      <td>0</td>\n",
              "      <td>0</td>\n",
              "      <td>0</td>\n",
              "      <td>0</td>\n",
              "      <td>0</td>\n",
              "      <td>0</td>\n",
              "      <td>0</td>\n",
              "      <td>0</td>\n",
              "    </tr>\n",
              "    <tr>\n",
              "      <th>41999</th>\n",
              "      <td>9</td>\n",
              "      <td>0</td>\n",
              "      <td>0</td>\n",
              "      <td>0</td>\n",
              "      <td>0</td>\n",
              "      <td>0</td>\n",
              "      <td>0</td>\n",
              "      <td>0</td>\n",
              "      <td>0</td>\n",
              "      <td>0</td>\n",
              "      <td>...</td>\n",
              "      <td>0</td>\n",
              "      <td>0</td>\n",
              "      <td>0</td>\n",
              "      <td>0</td>\n",
              "      <td>0</td>\n",
              "      <td>0</td>\n",
              "      <td>0</td>\n",
              "      <td>0</td>\n",
              "      <td>0</td>\n",
              "      <td>0</td>\n",
              "    </tr>\n",
              "  </tbody>\n",
              "</table>\n",
              "<p>42000 rows × 785 columns</p>\n",
              "</div>\n",
              "    <div class=\"colab-df-buttons\">\n",
              "\n",
              "  <div class=\"colab-df-container\">\n",
              "    <button class=\"colab-df-convert\" onclick=\"convertToInteractive('df-df927b52-be0f-40ca-b8b2-5f7ff0cc68c3')\"\n",
              "            title=\"Convert this dataframe to an interactive table.\"\n",
              "            style=\"display:none;\">\n",
              "\n",
              "  <svg xmlns=\"http://www.w3.org/2000/svg\" height=\"24px\" viewBox=\"0 -960 960 960\">\n",
              "    <path d=\"M120-120v-720h720v720H120Zm60-500h600v-160H180v160Zm220 220h160v-160H400v160Zm0 220h160v-160H400v160ZM180-400h160v-160H180v160Zm440 0h160v-160H620v160ZM180-180h160v-160H180v160Zm440 0h160v-160H620v160Z\"/>\n",
              "  </svg>\n",
              "    </button>\n",
              "\n",
              "  <style>\n",
              "    .colab-df-container {\n",
              "      display:flex;\n",
              "      gap: 12px;\n",
              "    }\n",
              "\n",
              "    .colab-df-convert {\n",
              "      background-color: #E8F0FE;\n",
              "      border: none;\n",
              "      border-radius: 50%;\n",
              "      cursor: pointer;\n",
              "      display: none;\n",
              "      fill: #1967D2;\n",
              "      height: 32px;\n",
              "      padding: 0 0 0 0;\n",
              "      width: 32px;\n",
              "    }\n",
              "\n",
              "    .colab-df-convert:hover {\n",
              "      background-color: #E2EBFA;\n",
              "      box-shadow: 0px 1px 2px rgba(60, 64, 67, 0.3), 0px 1px 3px 1px rgba(60, 64, 67, 0.15);\n",
              "      fill: #174EA6;\n",
              "    }\n",
              "\n",
              "    .colab-df-buttons div {\n",
              "      margin-bottom: 4px;\n",
              "    }\n",
              "\n",
              "    [theme=dark] .colab-df-convert {\n",
              "      background-color: #3B4455;\n",
              "      fill: #D2E3FC;\n",
              "    }\n",
              "\n",
              "    [theme=dark] .colab-df-convert:hover {\n",
              "      background-color: #434B5C;\n",
              "      box-shadow: 0px 1px 3px 1px rgba(0, 0, 0, 0.15);\n",
              "      filter: drop-shadow(0px 1px 2px rgba(0, 0, 0, 0.3));\n",
              "      fill: #FFFFFF;\n",
              "    }\n",
              "  </style>\n",
              "\n",
              "    <script>\n",
              "      const buttonEl =\n",
              "        document.querySelector('#df-df927b52-be0f-40ca-b8b2-5f7ff0cc68c3 button.colab-df-convert');\n",
              "      buttonEl.style.display =\n",
              "        google.colab.kernel.accessAllowed ? 'block' : 'none';\n",
              "\n",
              "      async function convertToInteractive(key) {\n",
              "        const element = document.querySelector('#df-df927b52-be0f-40ca-b8b2-5f7ff0cc68c3');\n",
              "        const dataTable =\n",
              "          await google.colab.kernel.invokeFunction('convertToInteractive',\n",
              "                                                    [key], {});\n",
              "        if (!dataTable) return;\n",
              "\n",
              "        const docLinkHtml = 'Like what you see? Visit the ' +\n",
              "          '<a target=\"_blank\" href=https://colab.research.google.com/notebooks/data_table.ipynb>data table notebook</a>'\n",
              "          + ' to learn more about interactive tables.';\n",
              "        element.innerHTML = '';\n",
              "        dataTable['output_type'] = 'display_data';\n",
              "        await google.colab.output.renderOutput(dataTable, element);\n",
              "        const docLink = document.createElement('div');\n",
              "        docLink.innerHTML = docLinkHtml;\n",
              "        element.appendChild(docLink);\n",
              "      }\n",
              "    </script>\n",
              "  </div>\n",
              "\n",
              "\n",
              "<div id=\"df-bff45e21-d22d-4b2b-9727-a9700835c69c\">\n",
              "  <button class=\"colab-df-quickchart\" onclick=\"quickchart('df-bff45e21-d22d-4b2b-9727-a9700835c69c')\"\n",
              "            title=\"Suggest charts.\"\n",
              "            style=\"display:none;\">\n",
              "\n",
              "<svg xmlns=\"http://www.w3.org/2000/svg\" height=\"24px\"viewBox=\"0 0 24 24\"\n",
              "     width=\"24px\">\n",
              "    <g>\n",
              "        <path d=\"M19 3H5c-1.1 0-2 .9-2 2v14c0 1.1.9 2 2 2h14c1.1 0 2-.9 2-2V5c0-1.1-.9-2-2-2zM9 17H7v-7h2v7zm4 0h-2V7h2v10zm4 0h-2v-4h2v4z\"/>\n",
              "    </g>\n",
              "</svg>\n",
              "  </button>\n",
              "\n",
              "<style>\n",
              "  .colab-df-quickchart {\n",
              "    background-color: #E8F0FE;\n",
              "    border: none;\n",
              "    border-radius: 50%;\n",
              "    cursor: pointer;\n",
              "    display: none;\n",
              "    fill: #1967D2;\n",
              "    height: 32px;\n",
              "    padding: 0 0 0 0;\n",
              "    width: 32px;\n",
              "  }\n",
              "\n",
              "  .colab-df-quickchart:hover {\n",
              "    background-color: #E2EBFA;\n",
              "    box-shadow: 0px 1px 2px rgba(60, 64, 67, 0.3), 0px 1px 3px 1px rgba(60, 64, 67, 0.15);\n",
              "    fill: #174EA6;\n",
              "  }\n",
              "\n",
              "  [theme=dark] .colab-df-quickchart {\n",
              "    background-color: #3B4455;\n",
              "    fill: #D2E3FC;\n",
              "  }\n",
              "\n",
              "  [theme=dark] .colab-df-quickchart:hover {\n",
              "    background-color: #434B5C;\n",
              "    box-shadow: 0px 1px 3px 1px rgba(0, 0, 0, 0.15);\n",
              "    filter: drop-shadow(0px 1px 2px rgba(0, 0, 0, 0.3));\n",
              "    fill: #FFFFFF;\n",
              "  }\n",
              "</style>\n",
              "\n",
              "  <script>\n",
              "    async function quickchart(key) {\n",
              "      const charts = await google.colab.kernel.invokeFunction(\n",
              "          'suggestCharts', [key], {});\n",
              "    }\n",
              "    (() => {\n",
              "      let quickchartButtonEl =\n",
              "        document.querySelector('#df-bff45e21-d22d-4b2b-9727-a9700835c69c button');\n",
              "      quickchartButtonEl.style.display =\n",
              "        google.colab.kernel.accessAllowed ? 'block' : 'none';\n",
              "    })();\n",
              "  </script>\n",
              "</div>\n",
              "    </div>\n",
              "  </div>\n"
            ]
          },
          "metadata": {},
          "execution_count": 2
        }
      ]
    },
    {
      "cell_type": "code",
      "source": [
        "data.head()"
      ],
      "metadata": {
        "colab": {
          "base_uri": "https://localhost:8080/",
          "height": 255
        },
        "id": "4FjMhdRYswlL",
        "outputId": "c1bc67d3-1b78-474d-abfd-9554c7c765c6"
      },
      "execution_count": null,
      "outputs": [
        {
          "output_type": "execute_result",
          "data": {
            "text/plain": [
              "   label  pixel0  pixel1  pixel2  pixel3  pixel4  pixel5  pixel6  pixel7  \\\n",
              "0      1       0       0       0       0       0       0       0       0   \n",
              "1      0       0       0       0       0       0       0       0       0   \n",
              "2      1       0       0       0       0       0       0       0       0   \n",
              "3      4       0       0       0       0       0       0       0       0   \n",
              "4      0       0       0       0       0       0       0       0       0   \n",
              "\n",
              "   pixel8  ...  pixel774  pixel775  pixel776  pixel777  pixel778  pixel779  \\\n",
              "0       0  ...         0         0         0         0         0         0   \n",
              "1       0  ...         0         0         0         0         0         0   \n",
              "2       0  ...         0         0         0         0         0         0   \n",
              "3       0  ...         0         0         0         0         0         0   \n",
              "4       0  ...         0         0         0         0         0         0   \n",
              "\n",
              "   pixel780  pixel781  pixel782  pixel783  \n",
              "0         0         0         0         0  \n",
              "1         0         0         0         0  \n",
              "2         0         0         0         0  \n",
              "3         0         0         0         0  \n",
              "4         0         0         0         0  \n",
              "\n",
              "[5 rows x 785 columns]"
            ],
            "text/html": [
              "\n",
              "  <div id=\"df-b8ccb66d-86f2-4cd7-8584-34f51ab2e44c\" class=\"colab-df-container\">\n",
              "    <div>\n",
              "<style scoped>\n",
              "    .dataframe tbody tr th:only-of-type {\n",
              "        vertical-align: middle;\n",
              "    }\n",
              "\n",
              "    .dataframe tbody tr th {\n",
              "        vertical-align: top;\n",
              "    }\n",
              "\n",
              "    .dataframe thead th {\n",
              "        text-align: right;\n",
              "    }\n",
              "</style>\n",
              "<table border=\"1\" class=\"dataframe\">\n",
              "  <thead>\n",
              "    <tr style=\"text-align: right;\">\n",
              "      <th></th>\n",
              "      <th>label</th>\n",
              "      <th>pixel0</th>\n",
              "      <th>pixel1</th>\n",
              "      <th>pixel2</th>\n",
              "      <th>pixel3</th>\n",
              "      <th>pixel4</th>\n",
              "      <th>pixel5</th>\n",
              "      <th>pixel6</th>\n",
              "      <th>pixel7</th>\n",
              "      <th>pixel8</th>\n",
              "      <th>...</th>\n",
              "      <th>pixel774</th>\n",
              "      <th>pixel775</th>\n",
              "      <th>pixel776</th>\n",
              "      <th>pixel777</th>\n",
              "      <th>pixel778</th>\n",
              "      <th>pixel779</th>\n",
              "      <th>pixel780</th>\n",
              "      <th>pixel781</th>\n",
              "      <th>pixel782</th>\n",
              "      <th>pixel783</th>\n",
              "    </tr>\n",
              "  </thead>\n",
              "  <tbody>\n",
              "    <tr>\n",
              "      <th>0</th>\n",
              "      <td>1</td>\n",
              "      <td>0</td>\n",
              "      <td>0</td>\n",
              "      <td>0</td>\n",
              "      <td>0</td>\n",
              "      <td>0</td>\n",
              "      <td>0</td>\n",
              "      <td>0</td>\n",
              "      <td>0</td>\n",
              "      <td>0</td>\n",
              "      <td>...</td>\n",
              "      <td>0</td>\n",
              "      <td>0</td>\n",
              "      <td>0</td>\n",
              "      <td>0</td>\n",
              "      <td>0</td>\n",
              "      <td>0</td>\n",
              "      <td>0</td>\n",
              "      <td>0</td>\n",
              "      <td>0</td>\n",
              "      <td>0</td>\n",
              "    </tr>\n",
              "    <tr>\n",
              "      <th>1</th>\n",
              "      <td>0</td>\n",
              "      <td>0</td>\n",
              "      <td>0</td>\n",
              "      <td>0</td>\n",
              "      <td>0</td>\n",
              "      <td>0</td>\n",
              "      <td>0</td>\n",
              "      <td>0</td>\n",
              "      <td>0</td>\n",
              "      <td>0</td>\n",
              "      <td>...</td>\n",
              "      <td>0</td>\n",
              "      <td>0</td>\n",
              "      <td>0</td>\n",
              "      <td>0</td>\n",
              "      <td>0</td>\n",
              "      <td>0</td>\n",
              "      <td>0</td>\n",
              "      <td>0</td>\n",
              "      <td>0</td>\n",
              "      <td>0</td>\n",
              "    </tr>\n",
              "    <tr>\n",
              "      <th>2</th>\n",
              "      <td>1</td>\n",
              "      <td>0</td>\n",
              "      <td>0</td>\n",
              "      <td>0</td>\n",
              "      <td>0</td>\n",
              "      <td>0</td>\n",
              "      <td>0</td>\n",
              "      <td>0</td>\n",
              "      <td>0</td>\n",
              "      <td>0</td>\n",
              "      <td>...</td>\n",
              "      <td>0</td>\n",
              "      <td>0</td>\n",
              "      <td>0</td>\n",
              "      <td>0</td>\n",
              "      <td>0</td>\n",
              "      <td>0</td>\n",
              "      <td>0</td>\n",
              "      <td>0</td>\n",
              "      <td>0</td>\n",
              "      <td>0</td>\n",
              "    </tr>\n",
              "    <tr>\n",
              "      <th>3</th>\n",
              "      <td>4</td>\n",
              "      <td>0</td>\n",
              "      <td>0</td>\n",
              "      <td>0</td>\n",
              "      <td>0</td>\n",
              "      <td>0</td>\n",
              "      <td>0</td>\n",
              "      <td>0</td>\n",
              "      <td>0</td>\n",
              "      <td>0</td>\n",
              "      <td>...</td>\n",
              "      <td>0</td>\n",
              "      <td>0</td>\n",
              "      <td>0</td>\n",
              "      <td>0</td>\n",
              "      <td>0</td>\n",
              "      <td>0</td>\n",
              "      <td>0</td>\n",
              "      <td>0</td>\n",
              "      <td>0</td>\n",
              "      <td>0</td>\n",
              "    </tr>\n",
              "    <tr>\n",
              "      <th>4</th>\n",
              "      <td>0</td>\n",
              "      <td>0</td>\n",
              "      <td>0</td>\n",
              "      <td>0</td>\n",
              "      <td>0</td>\n",
              "      <td>0</td>\n",
              "      <td>0</td>\n",
              "      <td>0</td>\n",
              "      <td>0</td>\n",
              "      <td>0</td>\n",
              "      <td>...</td>\n",
              "      <td>0</td>\n",
              "      <td>0</td>\n",
              "      <td>0</td>\n",
              "      <td>0</td>\n",
              "      <td>0</td>\n",
              "      <td>0</td>\n",
              "      <td>0</td>\n",
              "      <td>0</td>\n",
              "      <td>0</td>\n",
              "      <td>0</td>\n",
              "    </tr>\n",
              "  </tbody>\n",
              "</table>\n",
              "<p>5 rows × 785 columns</p>\n",
              "</div>\n",
              "    <div class=\"colab-df-buttons\">\n",
              "\n",
              "  <div class=\"colab-df-container\">\n",
              "    <button class=\"colab-df-convert\" onclick=\"convertToInteractive('df-b8ccb66d-86f2-4cd7-8584-34f51ab2e44c')\"\n",
              "            title=\"Convert this dataframe to an interactive table.\"\n",
              "            style=\"display:none;\">\n",
              "\n",
              "  <svg xmlns=\"http://www.w3.org/2000/svg\" height=\"24px\" viewBox=\"0 -960 960 960\">\n",
              "    <path d=\"M120-120v-720h720v720H120Zm60-500h600v-160H180v160Zm220 220h160v-160H400v160Zm0 220h160v-160H400v160ZM180-400h160v-160H180v160Zm440 0h160v-160H620v160ZM180-180h160v-160H180v160Zm440 0h160v-160H620v160Z\"/>\n",
              "  </svg>\n",
              "    </button>\n",
              "\n",
              "  <style>\n",
              "    .colab-df-container {\n",
              "      display:flex;\n",
              "      gap: 12px;\n",
              "    }\n",
              "\n",
              "    .colab-df-convert {\n",
              "      background-color: #E8F0FE;\n",
              "      border: none;\n",
              "      border-radius: 50%;\n",
              "      cursor: pointer;\n",
              "      display: none;\n",
              "      fill: #1967D2;\n",
              "      height: 32px;\n",
              "      padding: 0 0 0 0;\n",
              "      width: 32px;\n",
              "    }\n",
              "\n",
              "    .colab-df-convert:hover {\n",
              "      background-color: #E2EBFA;\n",
              "      box-shadow: 0px 1px 2px rgba(60, 64, 67, 0.3), 0px 1px 3px 1px rgba(60, 64, 67, 0.15);\n",
              "      fill: #174EA6;\n",
              "    }\n",
              "\n",
              "    .colab-df-buttons div {\n",
              "      margin-bottom: 4px;\n",
              "    }\n",
              "\n",
              "    [theme=dark] .colab-df-convert {\n",
              "      background-color: #3B4455;\n",
              "      fill: #D2E3FC;\n",
              "    }\n",
              "\n",
              "    [theme=dark] .colab-df-convert:hover {\n",
              "      background-color: #434B5C;\n",
              "      box-shadow: 0px 1px 3px 1px rgba(0, 0, 0, 0.15);\n",
              "      filter: drop-shadow(0px 1px 2px rgba(0, 0, 0, 0.3));\n",
              "      fill: #FFFFFF;\n",
              "    }\n",
              "  </style>\n",
              "\n",
              "    <script>\n",
              "      const buttonEl =\n",
              "        document.querySelector('#df-b8ccb66d-86f2-4cd7-8584-34f51ab2e44c button.colab-df-convert');\n",
              "      buttonEl.style.display =\n",
              "        google.colab.kernel.accessAllowed ? 'block' : 'none';\n",
              "\n",
              "      async function convertToInteractive(key) {\n",
              "        const element = document.querySelector('#df-b8ccb66d-86f2-4cd7-8584-34f51ab2e44c');\n",
              "        const dataTable =\n",
              "          await google.colab.kernel.invokeFunction('convertToInteractive',\n",
              "                                                    [key], {});\n",
              "        if (!dataTable) return;\n",
              "\n",
              "        const docLinkHtml = 'Like what you see? Visit the ' +\n",
              "          '<a target=\"_blank\" href=https://colab.research.google.com/notebooks/data_table.ipynb>data table notebook</a>'\n",
              "          + ' to learn more about interactive tables.';\n",
              "        element.innerHTML = '';\n",
              "        dataTable['output_type'] = 'display_data';\n",
              "        await google.colab.output.renderOutput(dataTable, element);\n",
              "        const docLink = document.createElement('div');\n",
              "        docLink.innerHTML = docLinkHtml;\n",
              "        element.appendChild(docLink);\n",
              "      }\n",
              "    </script>\n",
              "  </div>\n",
              "\n",
              "\n",
              "<div id=\"df-e3288fd3-01c4-482b-b4ab-dc57c30a7eb0\">\n",
              "  <button class=\"colab-df-quickchart\" onclick=\"quickchart('df-e3288fd3-01c4-482b-b4ab-dc57c30a7eb0')\"\n",
              "            title=\"Suggest charts.\"\n",
              "            style=\"display:none;\">\n",
              "\n",
              "<svg xmlns=\"http://www.w3.org/2000/svg\" height=\"24px\"viewBox=\"0 0 24 24\"\n",
              "     width=\"24px\">\n",
              "    <g>\n",
              "        <path d=\"M19 3H5c-1.1 0-2 .9-2 2v14c0 1.1.9 2 2 2h14c1.1 0 2-.9 2-2V5c0-1.1-.9-2-2-2zM9 17H7v-7h2v7zm4 0h-2V7h2v10zm4 0h-2v-4h2v4z\"/>\n",
              "    </g>\n",
              "</svg>\n",
              "  </button>\n",
              "\n",
              "<style>\n",
              "  .colab-df-quickchart {\n",
              "    background-color: #E8F0FE;\n",
              "    border: none;\n",
              "    border-radius: 50%;\n",
              "    cursor: pointer;\n",
              "    display: none;\n",
              "    fill: #1967D2;\n",
              "    height: 32px;\n",
              "    padding: 0 0 0 0;\n",
              "    width: 32px;\n",
              "  }\n",
              "\n",
              "  .colab-df-quickchart:hover {\n",
              "    background-color: #E2EBFA;\n",
              "    box-shadow: 0px 1px 2px rgba(60, 64, 67, 0.3), 0px 1px 3px 1px rgba(60, 64, 67, 0.15);\n",
              "    fill: #174EA6;\n",
              "  }\n",
              "\n",
              "  [theme=dark] .colab-df-quickchart {\n",
              "    background-color: #3B4455;\n",
              "    fill: #D2E3FC;\n",
              "  }\n",
              "\n",
              "  [theme=dark] .colab-df-quickchart:hover {\n",
              "    background-color: #434B5C;\n",
              "    box-shadow: 0px 1px 3px 1px rgba(0, 0, 0, 0.15);\n",
              "    filter: drop-shadow(0px 1px 2px rgba(0, 0, 0, 0.3));\n",
              "    fill: #FFFFFF;\n",
              "  }\n",
              "</style>\n",
              "\n",
              "  <script>\n",
              "    async function quickchart(key) {\n",
              "      const charts = await google.colab.kernel.invokeFunction(\n",
              "          'suggestCharts', [key], {});\n",
              "    }\n",
              "    (() => {\n",
              "      let quickchartButtonEl =\n",
              "        document.querySelector('#df-e3288fd3-01c4-482b-b4ab-dc57c30a7eb0 button');\n",
              "      quickchartButtonEl.style.display =\n",
              "        google.colab.kernel.accessAllowed ? 'block' : 'none';\n",
              "    })();\n",
              "  </script>\n",
              "</div>\n",
              "    </div>\n",
              "  </div>\n"
            ]
          },
          "metadata": {},
          "execution_count": 3
        }
      ]
    },
    {
      "cell_type": "code",
      "source": [
        "data.info()"
      ],
      "metadata": {
        "colab": {
          "base_uri": "https://localhost:8080/"
        },
        "id": "jCmCV2Qvg75V",
        "outputId": "55b90982-7a91-4beb-a4db-b35a5c79c16b"
      },
      "execution_count": null,
      "outputs": [
        {
          "output_type": "stream",
          "name": "stdout",
          "text": [
            "<class 'pandas.core.frame.DataFrame'>\n",
            "RangeIndex: 42000 entries, 0 to 41999\n",
            "Columns: 785 entries, label to pixel783\n",
            "dtypes: int64(785)\n",
            "memory usage: 251.5 MB\n"
          ]
        }
      ]
    },
    {
      "cell_type": "code",
      "source": [
        "data = np.array(data)\n",
        "m, n = data.shape\n",
        "np.random.shuffle(data) # shuffle before splitting into dev and training sets"
      ],
      "metadata": {
        "id": "I3pxb90zs9LN"
      },
      "execution_count": null,
      "outputs": []
    },
    {
      "cell_type": "code",
      "source": [
        "data_test = data[0:1000].T\n",
        "Y_test = data_test[0]\n",
        "X_test = data_test[1:n]\n",
        "X_test = X_test / 255."
      ],
      "metadata": {
        "id": "_mcLUzXwtEwL"
      },
      "execution_count": null,
      "outputs": []
    },
    {
      "cell_type": "code",
      "source": [
        "data_train = data[1000:m].T\n",
        "Y_train = data_train[0]\n",
        "X_train = data_train[1:n]\n",
        "X_train = X_train / 255.\n",
        "_,m_train = X_train.shape"
      ],
      "metadata": {
        "id": "wfzcIn-RtIIC"
      },
      "execution_count": null,
      "outputs": []
    },
    {
      "cell_type": "code",
      "source": [
        "Y_train"
      ],
      "metadata": {
        "colab": {
          "base_uri": "https://localhost:8080/"
        },
        "id": "wSiSipqdtNZP",
        "outputId": "63c42539-b9cd-418c-b56c-9b652bb78376"
      },
      "execution_count": null,
      "outputs": [
        {
          "output_type": "execute_result",
          "data": {
            "text/plain": [
              "array([6, 8, 1, ..., 8, 0, 2])"
            ]
          },
          "metadata": {},
          "execution_count": 181
        }
      ]
    },
    {
      "cell_type": "code",
      "source": [
        "# Generate a random index in the range dedicated for training images\n",
        "random_index = np.random.randint(0, m_train)\n",
        "\n",
        "# Plot the image corresponding to the generated index\n",
        "def plot_image_with_label(index, X, Y):\n",
        "    current_image = X[:, index].reshape((28, 28)) * 255\n",
        "    label = Y[index]\n",
        "    plt.gray()\n",
        "    plt.imshow(current_image, interpolation='nearest')\n",
        "    plt.title(f\" Label: {label}\")\n",
        "    plt.show()\n",
        "\n",
        "plot_image_with_label(random_index, X_train, Y_train)"
      ],
      "metadata": {
        "colab": {
          "base_uri": "https://localhost:8080/",
          "height": 452
        },
        "id": "6aya_eSL9VHU",
        "outputId": "9014ba18-7762-4148-9b07-64bca71febbf"
      },
      "execution_count": null,
      "outputs": [
        {
          "output_type": "display_data",
          "data": {
            "text/plain": [
              "<Figure size 640x480 with 1 Axes>"
            ],
            "image/png": "[encoded data removed]"
          },
          "metadata": {}
        }
      ]
    },
    {
      "cell_type": "code",
      "source": [
        "def init_params():\n",
        "    W1 = np.random.rand(10, 784) - 0.5\n",
        "    b1 = np.random.rand(10, 1) - 0.5\n",
        "    W2 = np.random.rand(10, 10) - 0.5\n",
        "    b2 = np.random.rand(10, 1) - 0.5\n",
        "    return W1, b1, W2, b2"
      ],
      "metadata": {
        "id": "8d3sj0_ytW5T"
      },
      "execution_count": null,
      "outputs": []
    },
    {
      "cell_type": "code",
      "source": [
        "def ReLU(Z):\n",
        "    return np.maximum(Z, 0)\n"
      ],
      "metadata": {
        "id": "BbT2j06ZtYYz"
      },
      "execution_count": null,
      "outputs": []
    },
    {
      "cell_type": "code",
      "source": [
        "def plot_activation_function(input_range, activation_function, title):\n",
        "    plt.plot(input_range, activation_function(input_range))\n",
        "    plt.title(title)\n",
        "    plt.xlabel('Input')\n",
        "    plt.ylabel('Output')\n",
        "    plt.grid()\n",
        "    plt.show()\n",
        "\n",
        "# Generate a range of values for the input\n",
        "x_range = np.linspace(-10, 10, 200)\n",
        "\n",
        "# Plot the ReLU activation function\n",
        "plot_activation_function(x_range, ReLU, 'ReLU Activation Function')"
      ],
      "metadata": {
        "colab": {
          "base_uri": "https://localhost:8080/",
          "height": 472
        },
        "id": "QVbzaV0EAIxc",
        "outputId": "09a46b08-d777-4988-d5ad-1e5029843ad7"
      },
      "execution_count": null,
      "outputs": [
        {
          "output_type": "display_data",
          "data": {
            "text/plain": [
              "<Figure size 640x480 with 1 Axes>"
            ],
            "image/png": "[encoded data removed]"
          },
          "metadata": {}
        }
      ]
    },
    {
      "cell_type": "code",
      "source": [
        "def ReLU_deriv(Z):\n",
        "    return Z > 0"
      ],
      "metadata": {
        "id": "TjV-dll_tjbU"
      },
      "execution_count": null,
      "outputs": []
    },
    {
      "cell_type": "code",
      "source": [
        "# Plot the derivative of ReLU activation function\n",
        "plot_activation_function(x_range, ReLU_deriv, 'Derivative of ReLU Activation Function')"
      ],
      "metadata": {
        "colab": {
          "base_uri": "https://localhost:8080/",
          "height": 472
        },
        "id": "WEvgDB3XAxKy",
        "outputId": "bff7997a-af96-40df-9ffb-99a3ebeb7f30"
      },
      "execution_count": null,
      "outputs": [
        {
          "output_type": "display_data",
          "data": {
            "text/plain": [
              "<Figure size 640x480 with 1 Axes>"
            ],
            "image/png": "[encoded data removed]"
          },
          "metadata": {}
        }
      ]
    },
    {
      "cell_type": "code",
      "source": [
        "def softmax(Z):\n",
        "    A = np.exp(Z) / sum(np.exp(Z))\n",
        "    return A"
      ],
      "metadata": {
        "id": "BUUBX37qtb0P"
      },
      "execution_count": null,
      "outputs": []
    },
    {
      "cell_type": "code",
      "source": [
        "# Plot the softmax activation function\n",
        "plot_activation_function(x_range, softmax, 'Softmax Activation Function')"
      ],
      "metadata": {
        "colab": {
          "base_uri": "https://localhost:8080/",
          "height": 472
        },
        "id": "BmSBJ5gCAjGf",
        "outputId": "e5d97484-9ece-4b85-94c9-302d1c2d60bf"
      },
      "execution_count": null,
      "outputs": [
        {
          "output_type": "display_data",
          "data": {
            "text/plain": [
              "<Figure size 640x480 with 1 Axes>"
            ],
            "image/png": "[encoded data removed]"
          },
          "metadata": {}
        }
      ]
    },
    {
      "cell_type": "code",
      "source": [
        "def forward_prop(W1, b1, W2, b2, X):\n",
        "    Z1 = W1.dot(X) + b1\n",
        "    A1 = ReLU(Z1)\n",
        "    Z2 = W2.dot(A1) + b2\n",
        "    A2 = softmax(Z2)\n",
        "    return Z1, A1, Z2, A2"
      ],
      "metadata": {
        "id": "5-BnWFXCtf0T"
      },
      "execution_count": null,
      "outputs": []
    },
    {
      "cell_type": "code",
      "source": [
        "def one_hot(Y):\n",
        "    Y = Y.astype(int)  # Convert Y to integer type\n",
        "    one_hot_Y = np.zeros((Y.size, Y.max() + 1))\n",
        "    one_hot_Y[np.arange(Y.size), Y] = 1\n",
        "    one_hot_Y = one_hot_Y.T\n",
        "    return one_hot_Y\n",
        "\n",
        "# def one_hot(Y):\n",
        "#     one_hot_Y = np.zeros((Y.size, Y.max() + 1))\n",
        "#     one_hot_Y[np.arange(Y.size), Y] = 1\n",
        "#     one_hot_Y = one_hot_Y.T\n",
        "#     return one_hot_Y"
      ],
      "metadata": {
        "id": "adHONI_YtoFr"
      },
      "execution_count": null,
      "outputs": []
    },
    {
      "cell_type": "code",
      "source": [
        "# Example ground truth vector\n",
        "Y = np.array([0, 2, 1, 0, 3])\n",
        "\n",
        "# Apply one-hot encoding\n",
        "one_hot_matrix = one_hot(Y)\n",
        "print(one_hot_matrix)"
      ],
      "metadata": {
        "colab": {
          "base_uri": "https://localhost:8080/"
        },
        "id": "QBBEYRknBiF9",
        "outputId": "1ce26410-d105-4a74-90d4-0a6dd1b334be"
      },
      "execution_count": null,
      "outputs": [
        {
          "output_type": "stream",
          "name": "stdout",
          "text": [
            "[[1. 0. 0. 1. 0.]\n",
            " [0. 0. 1. 0. 0.]\n",
            " [0. 1. 0. 0. 0.]\n",
            " [0. 0. 0. 0. 1.]]\n"
          ]
        }
      ]
    },
    {
      "cell_type": "code",
      "source": [
        "def backward_prop(Z1, A1, Z2, A2, W1, W2, X, Y):\n",
        "    one_hot_Y = one_hot(Y)\n",
        "    dZ2 = A2 - one_hot_Y\n",
        "    dW2 = 1 / m * dZ2.dot(A1.T)\n",
        "    db2 = 1 / m * np.sum(dZ2)\n",
        "    # db2 =  1 / m * np.sum(dZ2, axis=1).reshape(-1, 1)\n",
        "    dZ1 = W2.T.dot(dZ2) * ReLU_deriv(Z1)\n",
        "    dW1 = 1 / m * dZ1.dot(X.T)\n",
        "    db1 = 1 / m * np.sum(dZ1)\n",
        "    # db1 = 1 / m * np.sum(dZ1, axis=1).reshape(-1, 1)\n",
        "    return dW1, db1, dW2, db2"
      ],
      "metadata": {
        "id": "8Lpcnc3btrnE"
      },
      "execution_count": null,
      "outputs": []
    },
    {
      "cell_type": "code",
      "source": [
        "def update_params(W1, b1, W2, b2, dW1, db1, dW2, db2, alpha):\n",
        "    W1 = W1 - alpha * dW1\n",
        "    b1 = b1 - alpha * db1\n",
        "    W2 = W2 - alpha * dW2\n",
        "    b2 = b2 - alpha * db2\n",
        "    return W1, b1, W2, b2"
      ],
      "metadata": {
        "id": "26OO3XWxtvzf"
      },
      "execution_count": null,
      "outputs": []
    },
    {
      "cell_type": "code",
      "source": [
        "def get_predictions(A2):\n",
        "    return np.argmax(A2, 0)"
      ],
      "metadata": {
        "id": "O6qjbz9-tz2e"
      },
      "execution_count": null,
      "outputs": []
    },
    {
      "cell_type": "code",
      "source": [
        "def get_accuracy(predictions, Y):\n",
        "    print(predictions, Y)\n",
        "    return np.sum(predictions == Y) / Y.size"
      ],
      "metadata": {
        "id": "9bROsuMAvBwq"
      },
      "execution_count": null,
      "outputs": []
    },
    {
      "cell_type": "code",
      "source": [
        "# Example predicted vector and ground truth vector\n",
        "predicted = np.array([0, 1, 1, 0, 2])\n",
        "ground_truth = np.array([0, 1, 1, 0, 3])\n",
        "\n",
        "# Calculate accuracy\n",
        "accuracy = get_accuracy(predicted, ground_truth)\n",
        "print(\"Accuracy:\", accuracy)"
      ],
      "metadata": {
        "colab": {
          "base_uri": "https://localhost:8080/"
        },
        "id": "--RtlED6CMnE",
        "outputId": "a71abc31-d30c-43fc-8253-1c6fc4877876"
      },
      "execution_count": null,
      "outputs": [
        {
          "output_type": "stream",
          "name": "stdout",
          "text": [
            "[0 1 1 0 2] [0 1 1 0 3]\n",
            "Accuracy: 0.8\n"
          ]
        }
      ]
    },
    {
      "cell_type": "code",
      "source": [
        "def gradient_descent(X, Y, alpha, iterations):\n",
        "    W1, b1, W2, b2 = init_params()\n",
        "    accuracy_scores = []\n",
        "    for i in range(iterations):\n",
        "        Z1, A1, Z2, A2 = forward_prop(W1, b1, W2, b2, X)\n",
        "        dW1, db1, dW2, db2 = backward_prop(Z1, A1, Z2, A2, W1, W2, X, Y)\n",
        "        W1, b1, W2, b2 = update_params(W1, b1, W2, b2, dW1, db1, dW2, db2, alpha)\n",
        "        if i % 5 == 0:\n",
        "           predictions = get_predictions(A2)\n",
        "           accuracy = get_accuracy(predictions, Y)\n",
        "           print(\"Iteration:\", i, \"Accuracy:\", accuracy)\n",
        "           accuracy_scores.append((i, accuracy))\n",
        "    return W1, b1, W2, b2, accuracy_scores\n",
        "    #         print(\"Iteration: \", i)\n",
        "    #         predictions = get_predictions(A2)\n",
        "    #         print(get_accuracy(predictions, Y))\n",
        "    # return W1, b1, W2, b2"
      ],
      "metadata": {
        "id": "ZbKQFqVqvDei"
      },
      "execution_count": null,
      "outputs": []
    },
    {
      "cell_type": "code",
      "source": [
        "W1, b1, W2, b2, accuracy_scores = gradient_descent(X_train, Y_train, 0.10, 500)"
      ],
      "metadata": {
        "colab": {
          "base_uri": "https://localhost:8080/"
        },
        "id": "lp8wrqRKvH2s",
        "outputId": "7a4773b4-bb4f-4bd1-8d46-03fea4515947"
      },
      "execution_count": null,
      "outputs": [
        {
          "output_type": "stream",
          "name": "stdout",
          "text": [
            "[7 6 4 ... 4 4 4] [9 9 4 ... 3 1 0]\n",
            "Iteration: 0 Accuracy: 0.06404878048780488\n",
            "[7 6 6 ... 2 2 0] [9 9 4 ... 3 1 0]\n",
            "Iteration: 5 Accuracy: 0.1348780487804878\n",
            "[7 6 6 ... 3 2 0] [9 9 4 ... 3 1 0]\n",
            "Iteration: 10 Accuracy: 0.1992439024390244\n",
            "[7 9 6 ... 3 2 0] [9 9 4 ... 3 1 0]\n",
            "Iteration: 15 Accuracy: 0.23934146341463414\n",
            "[7 9 6 ... 3 2 0] [9 9 4 ... 3 1 0]\n",
            "Iteration: 20 Accuracy: 0.2761219512195122\n",
            "[7 9 6 ... 3 2 0] [9 9 4 ... 3 1 0]\n",
            "Iteration: 25 Accuracy: 0.307390243902439\n",
            "[7 9 6 ... 3 3 0] [9 9 4 ... 3 1 0]\n",
            "Iteration: 30 Accuracy: 0.33402439024390246\n",
            "[7 9 6 ... 3 3 0] [9 9 4 ... 3 1 0]\n",
            "Iteration: 35 Accuracy: 0.3595853658536585\n",
            "[7 9 6 ... 3 3 0] [9 9 4 ... 3 1 0]\n",
            "Iteration: 40 Accuracy: 0.38190243902439025\n",
            "[7 9 6 ... 3 3 0] [9 9 4 ... 3 1 0]\n",
            "Iteration: 45 Accuracy: 0.404219512195122\n",
            "[7 9 6 ... 3 3 0] [9 9 4 ... 3 1 0]\n",
            "Iteration: 50 Accuracy: 0.42778048780487804\n",
            "[7 9 6 ... 3 3 0] [9 9 4 ... 3 1 0]\n",
            "Iteration: 55 Accuracy: 0.4509268292682927\n",
            "[7 9 6 ... 3 1 0] [9 9 4 ... 3 1 0]\n",
            "Iteration: 60 Accuracy: 0.47880487804878047\n",
            "[7 9 6 ... 3 1 0] [9 9 4 ... 3 1 0]\n",
            "Iteration: 65 Accuracy: 0.5111707317073171\n",
            "[7 9 6 ... 3 1 0] [9 9 4 ... 3 1 0]\n",
            "Iteration: 70 Accuracy: 0.5453414634146342\n",
            "[7 9 6 ... 3 1 0] [9 9 4 ... 3 1 0]\n",
            "Iteration: 75 Accuracy: 0.5763170731707317\n",
            "[7 9 6 ... 3 1 0] [9 9 4 ... 3 1 0]\n",
            "Iteration: 80 Accuracy: 0.6000975609756097\n",
            "[9 9 6 ... 3 1 0] [9 9 4 ... 3 1 0]\n",
            "Iteration: 85 Accuracy: 0.6182439024390244\n",
            "[9 9 6 ... 3 1 0] [9 9 4 ... 3 1 0]\n",
            "Iteration: 90 Accuracy: 0.6332926829268293\n",
            "[9 9 6 ... 3 1 0] [9 9 4 ... 3 1 0]\n",
            "Iteration: 95 Accuracy: 0.6461951219512195\n",
            "[9 9 6 ... 3 1 0] [9 9 4 ... 3 1 0]\n",
            "Iteration: 100 Accuracy: 0.6587073170731708\n",
            "[9 9 6 ... 3 1 0] [9 9 4 ... 3 1 0]\n",
            "Iteration: 105 Accuracy: 0.6702926829268293\n",
            "[9 9 6 ... 3 1 0] [9 9 4 ... 3 1 0]\n",
            "Iteration: 110 Accuracy: 0.6816341463414635\n",
            "[9 9 6 ... 3 1 0] [9 9 4 ... 3 1 0]\n",
            "Iteration: 115 Accuracy: 0.6909024390243902\n",
            "[9 9 6 ... 3 1 0] [9 9 4 ... 3 1 0]\n",
            "Iteration: 120 Accuracy: 0.7005121951219512\n",
            "[9 9 6 ... 3 1 0] [9 9 4 ... 3 1 0]\n",
            "Iteration: 125 Accuracy: 0.7086829268292683\n",
            "[9 9 6 ... 3 1 0] [9 9 4 ... 3 1 0]\n",
            "Iteration: 130 Accuracy: 0.715609756097561\n",
            "[9 9 6 ... 3 1 0] [9 9 4 ... 3 1 0]\n",
            "Iteration: 135 Accuracy: 0.7233414634146341\n",
            "[9 9 6 ... 3 1 0] [9 9 4 ... 3 1 0]\n",
            "Iteration: 140 Accuracy: 0.729609756097561\n",
            "[9 9 6 ... 3 1 0] [9 9 4 ... 3 1 0]\n",
            "Iteration: 145 Accuracy: 0.7365609756097561\n",
            "[9 9 6 ... 3 1 0] [9 9 4 ... 3 1 0]\n",
            "Iteration: 150 Accuracy: 0.7423414634146341\n",
            "[9 9 6 ... 3 1 0] [9 9 4 ... 3 1 0]\n",
            "Iteration: 155 Accuracy: 0.747390243902439\n",
            "[9 9 6 ... 3 1 0] [9 9 4 ... 3 1 0]\n",
            "Iteration: 160 Accuracy: 0.7523170731707317\n",
            "[9 9 6 ... 3 1 0] [9 9 4 ... 3 1 0]\n",
            "Iteration: 165 Accuracy: 0.7575609756097561\n",
            "[9 9 6 ... 3 1 0] [9 9 4 ... 3 1 0]\n",
            "Iteration: 170 Accuracy: 0.7620731707317073\n",
            "[9 9 6 ... 3 1 0] [9 9 4 ... 3 1 0]\n",
            "Iteration: 175 Accuracy: 0.7664634146341464\n",
            "[9 9 6 ... 3 1 0] [9 9 4 ... 3 1 0]\n",
            "Iteration: 180 Accuracy: 0.7698536585365854\n",
            "[9 9 6 ... 3 1 0] [9 9 4 ... 3 1 0]\n",
            "Iteration: 185 Accuracy: 0.7735121951219512\n",
            "[9 9 6 ... 3 1 0] [9 9 4 ... 3 1 0]\n",
            "Iteration: 190 Accuracy: 0.7775365853658537\n",
            "[9 9 6 ... 3 1 0] [9 9 4 ... 3 1 0]\n",
            "Iteration: 195 Accuracy: 0.7804878048780488\n",
            "[9 9 6 ... 3 1 0] [9 9 4 ... 3 1 0]\n",
            "Iteration: 200 Accuracy: 0.7834878048780488\n",
            "[9 9 6 ... 3 1 0] [9 9 4 ... 3 1 0]\n",
            "Iteration: 205 Accuracy: 0.7867317073170732\n",
            "[9 9 6 ... 3 1 0] [9 9 4 ... 3 1 0]\n",
            "Iteration: 210 Accuracy: 0.7894634146341464\n",
            "[9 9 6 ... 3 1 0] [9 9 4 ... 3 1 0]\n",
            "Iteration: 215 Accuracy: 0.7923170731707317\n",
            "[9 9 6 ... 3 1 0] [9 9 4 ... 3 1 0]\n",
            "Iteration: 220 Accuracy: 0.7950975609756098\n",
            "[9 9 6 ... 3 1 0] [9 9 4 ... 3 1 0]\n",
            "Iteration: 225 Accuracy: 0.7970243902439025\n",
            "[9 9 6 ... 3 1 0] [9 9 4 ... 3 1 0]\n",
            "Iteration: 230 Accuracy: 0.7999024390243903\n",
            "[9 9 6 ... 3 1 0] [9 9 4 ... 3 1 0]\n",
            "Iteration: 235 Accuracy: 0.8027317073170732\n",
            "[9 9 6 ... 3 1 0] [9 9 4 ... 3 1 0]\n",
            "Iteration: 240 Accuracy: 0.8046585365853659\n",
            "[9 9 6 ... 3 1 0] [9 9 4 ... 3 1 0]\n",
            "Iteration: 245 Accuracy: 0.8067560975609757\n",
            "[9 9 6 ... 3 1 0] [9 9 4 ... 3 1 0]\n",
            "Iteration: 250 Accuracy: 0.8086585365853659\n",
            "[9 9 6 ... 3 1 0] [9 9 4 ... 3 1 0]\n",
            "Iteration: 255 Accuracy: 0.8104878048780488\n",
            "[9 9 6 ... 3 1 0] [9 9 4 ... 3 1 0]\n",
            "Iteration: 260 Accuracy: 0.8120487804878049\n",
            "[9 9 6 ... 3 1 0] [9 9 4 ... 3 1 0]\n",
            "Iteration: 265 Accuracy: 0.8140243902439024\n",
            "[9 9 6 ... 3 1 0] [9 9 4 ... 3 1 0]\n",
            "Iteration: 270 Accuracy: 0.8158048780487804\n",
            "[9 9 6 ... 3 1 0] [9 9 4 ... 3 1 0]\n",
            "Iteration: 275 Accuracy: 0.8174390243902439\n",
            "[9 9 6 ... 3 1 0] [9 9 4 ... 3 1 0]\n",
            "Iteration: 280 Accuracy: 0.8190731707317073\n",
            "[9 9 6 ... 3 1 0] [9 9 4 ... 3 1 0]\n",
            "Iteration: 285 Accuracy: 0.8208780487804878\n",
            "[9 9 6 ... 3 1 0] [9 9 4 ... 3 1 0]\n",
            "Iteration: 290 Accuracy: 0.8220975609756097\n",
            "[9 9 6 ... 3 1 0] [9 9 4 ... 3 1 0]\n",
            "Iteration: 295 Accuracy: 0.8234390243902439\n",
            "[9 9 6 ... 3 1 0] [9 9 4 ... 3 1 0]\n",
            "Iteration: 300 Accuracy: 0.8249268292682926\n",
            "[9 9 6 ... 3 1 0] [9 9 4 ... 3 1 0]\n",
            "Iteration: 305 Accuracy: 0.8263658536585365\n",
            "[9 9 6 ... 3 1 0] [9 9 4 ... 3 1 0]\n",
            "Iteration: 310 Accuracy: 0.8277560975609756\n",
            "[9 9 6 ... 3 1 0] [9 9 4 ... 3 1 0]\n",
            "Iteration: 315 Accuracy: 0.8289756097560975\n",
            "[9 9 6 ... 3 1 0] [9 9 4 ... 3 1 0]\n",
            "Iteration: 320 Accuracy: 0.8302682926829268\n",
            "[9 9 6 ... 3 1 0] [9 9 4 ... 3 1 0]\n",
            "Iteration: 325 Accuracy: 0.8315121951219512\n",
            "[9 9 6 ... 3 1 0] [9 9 4 ... 3 1 0]\n",
            "Iteration: 330 Accuracy: 0.8325121951219512\n",
            "[9 9 6 ... 3 1 0] [9 9 4 ... 3 1 0]\n",
            "Iteration: 335 Accuracy: 0.8336341463414634\n",
            "[9 9 6 ... 3 1 0] [9 9 4 ... 3 1 0]\n",
            "Iteration: 340 Accuracy: 0.8350487804878048\n",
            "[9 9 6 ... 3 1 0] [9 9 4 ... 3 1 0]\n",
            "Iteration: 345 Accuracy: 0.8362195121951219\n",
            "[9 9 6 ... 3 1 0] [9 9 4 ... 3 1 0]\n",
            "Iteration: 350 Accuracy: 0.8372195121951219\n",
            "[9 9 6 ... 3 1 0] [9 9 4 ... 3 1 0]\n",
            "Iteration: 355 Accuracy: 0.8380975609756097\n",
            "[9 9 6 ... 3 1 0] [9 9 4 ... 3 1 0]\n",
            "Iteration: 360 Accuracy: 0.8390731707317073\n",
            "[9 9 6 ... 3 1 0] [9 9 4 ... 3 1 0]\n",
            "Iteration: 365 Accuracy: 0.8396585365853658\n",
            "[9 9 6 ... 3 1 0] [9 9 4 ... 3 1 0]\n",
            "Iteration: 370 Accuracy: 0.840780487804878\n",
            "[9 9 6 ... 3 1 0] [9 9 4 ... 3 1 0]\n",
            "Iteration: 375 Accuracy: 0.8419024390243902\n",
            "[9 9 6 ... 3 1 0] [9 9 4 ... 3 1 0]\n",
            "Iteration: 380 Accuracy: 0.8430243902439024\n",
            "[9 9 6 ... 3 1 0] [9 9 4 ... 3 1 0]\n",
            "Iteration: 385 Accuracy: 0.8438536585365853\n",
            "[9 9 6 ... 3 1 0] [9 9 4 ... 3 1 0]\n",
            "Iteration: 390 Accuracy: 0.8450243902439024\n",
            "[9 9 6 ... 3 1 0] [9 9 4 ... 3 1 0]\n",
            "Iteration: 395 Accuracy: 0.8456829268292683\n",
            "[9 9 6 ... 3 1 0] [9 9 4 ... 3 1 0]\n",
            "Iteration: 400 Accuracy: 0.8467317073170731\n",
            "[9 9 6 ... 3 1 0] [9 9 4 ... 3 1 0]\n",
            "Iteration: 405 Accuracy: 0.8475853658536585\n",
            "[9 9 6 ... 3 1 0] [9 9 4 ... 3 1 0]\n",
            "Iteration: 410 Accuracy: 0.8485609756097561\n",
            "[9 9 6 ... 3 1 0] [9 9 4 ... 3 1 0]\n",
            "Iteration: 415 Accuracy: 0.8491463414634146\n",
            "[9 9 6 ... 3 1 0] [9 9 4 ... 3 1 0]\n",
            "Iteration: 420 Accuracy: 0.8499756097560975\n",
            "[9 9 6 ... 3 1 0] [9 9 4 ... 3 1 0]\n",
            "Iteration: 425 Accuracy: 0.8505121951219512\n",
            "[9 9 6 ... 3 1 0] [9 9 4 ... 3 1 0]\n",
            "Iteration: 430 Accuracy: 0.8511951219512195\n",
            "[9 9 6 ... 3 1 0] [9 9 4 ... 3 1 0]\n",
            "Iteration: 435 Accuracy: 0.851780487804878\n",
            "[9 9 6 ... 3 1 0] [9 9 4 ... 3 1 0]\n",
            "Iteration: 440 Accuracy: 0.8527073170731707\n",
            "[9 9 6 ... 3 1 0] [9 9 4 ... 3 1 0]\n",
            "Iteration: 445 Accuracy: 0.8532439024390244\n",
            "[9 9 6 ... 3 1 0] [9 9 4 ... 3 1 0]\n",
            "Iteration: 450 Accuracy: 0.854\n",
            "[9 9 6 ... 3 1 0] [9 9 4 ... 3 1 0]\n",
            "Iteration: 455 Accuracy: 0.8547317073170732\n",
            "[9 9 6 ... 3 1 0] [9 9 4 ... 3 1 0]\n",
            "Iteration: 460 Accuracy: 0.8552439024390244\n",
            "[9 9 6 ... 3 1 0] [9 9 4 ... 3 1 0]\n",
            "Iteration: 465 Accuracy: 0.8557560975609756\n",
            "[9 9 6 ... 3 1 0] [9 9 4 ... 3 1 0]\n",
            "Iteration: 470 Accuracy: 0.8564146341463414\n",
            "[9 9 6 ... 3 1 0] [9 9 4 ... 3 1 0]\n",
            "Iteration: 475 Accuracy: 0.8570731707317073\n",
            "[9 9 6 ... 3 1 0] [9 9 4 ... 3 1 0]\n",
            "Iteration: 480 Accuracy: 0.8576829268292683\n",
            "[9 9 6 ... 3 1 0] [9 9 4 ... 3 1 0]\n",
            "Iteration: 485 Accuracy: 0.8580975609756097\n",
            "[9 9 6 ... 3 1 0] [9 9 4 ... 3 1 0]\n",
            "Iteration: 490 Accuracy: 0.858609756097561\n",
            "[9 9 6 ... 3 1 0] [9 9 4 ... 3 1 0]\n",
            "Iteration: 495 Accuracy: 0.8590975609756097\n"
          ]
        }
      ]
    },
    {
      "cell_type": "code",
      "source": [
        "# Extract iteration numbers and accuracy scores from the list\n",
        "iterations, accuracies = zip(*accuracy_scores)\n",
        "\n",
        "# Plot accuracy vs. iterations\n",
        "plt.plot(iterations, accuracies)\n",
        "plt.title('Accuracy vs. Iterations')\n",
        "plt.xlabel('Iterations')\n",
        "plt.ylabel('Accuracy')\n",
        "plt.grid()\n",
        "plt.show()"
      ],
      "metadata": {
        "id": "gp16etvrIopD",
        "outputId": "58ca297c-1d7a-4076-9270-579ac9fc2076",
        "colab": {
          "base_uri": "https://localhost:8080/",
          "height": 472
        }
      },
      "execution_count": null,
      "outputs": [
        {
          "output_type": "display_data",
          "data": {
            "text/plain": [
              "<Figure size 640x480 with 1 Axes>"
            ],
            "image/png": "[encoded data removed]"
          },
          "metadata": {}
        }
      ]
    },
    {
      "cell_type": "code",
      "source": [
        "def make_predictions(X, W1, b1, W2, b2):\n",
        "    _, _, _, A2 = forward_prop(W1, b1, W2, b2, X)\n",
        "    predictions = get_predictions(A2)\n",
        "    return predictions\n",
        "\n",
        "def test_prediction(index, W1, b1, W2, b2):\n",
        "    current_image = X_train[:, index, None]\n",
        "    prediction = make_predictions(X_train[:, index, None], W1, b1, W2, b2)\n",
        "    label = Y_train[index]\n",
        "    print(\"Prediction: \", prediction)\n",
        "    print(\"Label: \", label)\n",
        "\n",
        "    current_image = current_image.reshape((28, 28)) * 255\n",
        "    plt.gray()\n",
        "    plt.imshow(current_image, interpolation='nearest')\n",
        "    plt.show()"
      ],
      "metadata": {
        "id": "N7ntyr0Tv5Q0"
      },
      "execution_count": null,
      "outputs": []
    },
    {
      "cell_type": "code",
      "source": [
        "test_prediction(0, W1, b1, W2, b2)\n",
        "test_prediction(8, W1, b1, W2, b2)\n",
        "test_prediction(5, W1, b1, W2, b2)\n",
        "test_prediction(7, W1, b1, W2, b2)"
      ],
      "metadata": {
        "colab": {
          "base_uri": "https://localhost:8080/",
          "height": 1000
        },
        "id": "5wmutxSvwBXZ",
        "outputId": "ced9f2cd-6bd7-4614-b67a-e535004469e7"
      },
      "execution_count": null,
      "outputs": [
        {
          "output_type": "stream",
          "name": "stdout",
          "text": [
            "Prediction:  [9]\n",
            "Label:  9\n"
          ]
        },
        {
          "output_type": "display_data",
          "data": {
            "text/plain": [
              "<Figure size 640x480 with 1 Axes>"
            ],
            "image/png": "[encoded data removed]"
          },
          "metadata": {}
        },
        {
          "output_type": "stream",
          "name": "stdout",
          "text": [
            "Prediction:  [3]\n",
            "Label:  3\n"
          ]
        },
        {
          "output_type": "display_data",
          "data": {
            "text/plain": [
              "<Figure size 640x480 with 1 Axes>"
            ],
            "image/png": "[encoded data removed]"
          },
          "metadata": {}
        },
        {
          "output_type": "stream",
          "name": "stdout",
          "text": [
            "Prediction:  [1]\n",
            "Label:  1\n"
          ]
        },
        {
          "output_type": "display_data",
          "data": {
            "text/plain": [
              "<Figure size 640x480 with 1 Axes>"
            ],
            "image/png": "[encoded data removed]"
          },
          "metadata": {}
        },
        {
          "output_type": "stream",
          "name": "stdout",
          "text": [
            "Prediction:  [6]\n",
            "Label:  6\n"
          ]
        },
        {
          "output_type": "display_data",
          "data": {
            "text/plain": [
              "<Figure size 640x480 with 1 Axes>"
            ],
            "image/png": "[encoded data removed]"
          },
          "metadata": {}
        }
      ]
    },
    {
      "cell_type": "code",
      "source": [
        "test_prediction(168, W1, b1, W2, b2)"
      ],
      "metadata": {
        "colab": {
          "base_uri": "https://localhost:8080/",
          "height": 465
        },
        "id": "-p6nNlBOxpQT",
        "outputId": "4f55a477-ed31-4078-bc18-cb123fec4984"
      },
      "execution_count": null,
      "outputs": [
        {
          "output_type": "stream",
          "name": "stdout",
          "text": [
            "Prediction:  [5]\n",
            "Label:  5\n"
          ]
        },
        {
          "output_type": "display_data",
          "data": {
            "text/plain": [
              "<Figure size 640x480 with 1 Axes>"
            ],
            "image/png": "[encoded data removed]"
          },
          "metadata": {}
        }
      ]
    },
    {
      "cell_type": "code",
      "source": [
        "test_predictions = make_predictions(X_test, W1, b1, W2, b2)\n",
        "get_accuracy(test_predictions, Y_test)"
      ],
      "metadata": {
        "colab": {
          "base_uri": "https://localhost:8080/"
        },
        "id": "A4XMVLh0wWPR",
        "outputId": "13a88dc0-ab17-491f-97d2-0d81aaad56be"
      },
      "execution_count": null,
      "outputs": [
        {
          "output_type": "stream",
          "name": "stdout",
          "text": [
            "[7 3 3 6 1 1 1 7 9 2 9 0 1 2 0 0 6 4 0 7 0 0 1 6 8 4 1 4 1 7 3 5 9 9 7 0 2\n",
            " 6 4 9 1 1 5 2 4 4 6 2 0 4 6 6 8 1 3 9 1 5 8 5 1 6 2 4 2 3 7 3 0 4 2 2 9 6\n",
            " 3 3 6 3 1 6 4 6 2 0 6 6 2 6 8 7 6 6 8 7 9 1 9 2 4 5 1 0 4 9 6 9 3 0 0 9 8\n",
            " 6 4 4 2 9 3 6 0 8 0 0 2 5 6 4 6 1 7 0 1 4 6 4 8 9 7 5 1 0 7 8 3 5 4 1 7 9\n",
            " 5 8 7 4 1 5 3 0 0 4 2 6 6 9 5 9 4 4 9 3 1 0 1 7 8 3 3 9 1 0 1 3 4 7 8 0 6\n",
            " 7 8 5 6 4 6 1 4 8 0 5 2 4 9 1 2 4 0 4 7 7 4 3 1 8 2 3 9 7 2 8 4 0 4 3 3 5\n",
            " 2 2 3 3 7 1 3 8 2 8 1 4 6 5 8 2 8 6 8 1 6 3 2 8 8 8 8 9 9 8 1 4 8 6 1 7 8\n",
            " 7 0 2 0 3 2 1 0 9 9 3 7 8 8 0 3 0 3 4 0 4 8 7 8 8 9 8 9 2 9 3 0 3 4 8 6 2\n",
            " 3 0 3 2 0 4 5 4 0 4 0 6 5 1 9 4 0 3 6 1 7 3 4 8 8 2 8 4 2 5 8 4 3 1 7 3 4\n",
            " 9 7 4 5 3 8 5 8 6 3 4 5 0 5 2 0 8 6 8 2 1 9 7 7 2 5 4 0 3 7 1 8 8 7 8 6 7\n",
            " 4 0 2 7 0 7 5 9 5 4 1 5 1 2 1 6 0 2 4 1 4 0 2 8 9 8 3 9 2 5 5 8 9 9 7 0 5\n",
            " 3 2 8 8 6 4 4 9 4 1 9 8 2 1 5 1 1 0 3 7 7 8 3 4 4 4 6 1 0 4 9 4 4 6 6 5 6\n",
            " 1 9 8 9 5 1 8 4 9 2 0 7 9 0 3 3 4 1 7 0 8 2 3 7 1 6 1 8 9 8 7 3 4 0 4 0 9\n",
            " 9 8 0 9 5 5 2 0 9 7 1 4 9 0 5 8 7 5 8 0 5 6 5 1 1 9 3 8 0 6 2 9 6 6 4 8 5\n",
            " 5 5 5 3 1 6 9 3 6 8 4 8 5 9 6 1 0 6 2 8 4 4 3 6 2 3 9 5 3 7 3 8 3 7 4 4 5\n",
            " 1 0 2 8 2 2 1 2 1 4 2 5 2 8 6 1 8 9 7 3 0 4 4 5 7 4 7 0 1 9 2 1 8 6 3 8 9\n",
            " 7 5 5 8 9 4 6 8 7 6 3 0 7 1 9 8 9 4 7 5 4 0 0 0 6 1 0 2 5 5 2 1 1 6 7 7 0\n",
            " 8 9 9 9 2 4 0 1 2 1 8 2 2 5 0 3 8 1 9 7 6 6 8 1 0 0 7 6 0 5 7 8 6 4 5 9 3\n",
            " 0 5 2 4 4 4 8 8 0 5 7 1 1 8 7 7 9 5 8 0 1 3 5 2 3 3 9 5 4 3 3 6 1 4 0 0 0\n",
            " 4 5 1 4 4 4 4 2 5 5 9 2 2 6 4 8 5 3 0 1 3 0 2 2 9 7 3 0 0 8 7 6 7 5 1 3 2\n",
            " 3 1 3 3 5 8 8 7 1 3 4 6 0 7 4 3 2 4 2 3 1 8 5 6 3 0 7 8 2 1 3 6 5 1 6 3 9\n",
            " 3 6 8 8 8 2 1 2 7 9 1 6 2 3 1 5 7 1 0 5 3 2 5 2 1 3 0 9 6 5 7 6 2 8 9 6 8\n",
            " 7 2 1 3 5 3 5 1 5 6 3 8 1 6 9 1 4 5 6 4 7 9 5 9 5 9 7 2 5 1 1 8 4 3 7 6 3\n",
            " 4 9 3 2 8 3 0 2 3 9 3 0 1 5 5 5 0 0 4 4 7 7 3 7 1 8 5 5 2 5 3 4 0 0 8 1 3\n",
            " 1 6 6 3 1 7 1 7 0 8 0 0 2 4 4 1 0 1 3 3 0 0 4 3 7 6 7 6 4 1 6 7 4 0 3 4 4\n",
            " 6 8 7 0 0 7 1 2 4 2 1 3 1 0 8 3 6 3 7 5 7 5 4 9 1 3 2 9 2 7 6 7 4 0 7 3 6\n",
            " 8 4 5 9 9 9 4 9 0 2 5 1 6 7 4 9 0 7 9 5 1 1 4 7 6 1 2 9 8 1 7 6 4 5 9 3 1\n",
            " 0] [9 3 3 6 2 1 7 7 9 2 9 0 1 8 2 0 6 6 0 7 0 0 1 6 8 4 1 4 1 7 3 3 9 9 7 0 2\n",
            " 6 4 9 1 1 5 2 4 4 6 2 0 4 6 6 5 1 3 9 1 5 8 3 1 6 2 7 2 3 7 3 0 9 2 2 9 6\n",
            " 3 3 6 2 1 6 6 6 8 0 6 6 2 6 3 3 6 6 8 3 9 1 9 3 4 5 1 0 4 9 4 9 3 0 0 9 8\n",
            " 6 4 4 2 9 3 2 0 8 0 0 2 8 6 4 6 1 7 0 1 4 6 4 8 9 7 5 1 0 7 8 3 7 7 1 7 9\n",
            " 8 8 7 4 1 5 3 6 0 4 2 6 6 9 5 8 2 4 9 3 1 0 1 7 1 3 3 9 1 0 1 3 4 7 4 0 6\n",
            " 7 8 8 6 4 2 1 4 8 0 5 2 4 5 1 2 0 0 4 7 7 4 1 1 8 2 3 9 7 2 8 4 0 4 3 3 5\n",
            " 2 2 3 3 7 1 0 2 2 1 1 2 6 5 8 4 8 4 8 1 6 3 3 8 8 8 8 9 9 5 1 8 5 6 1 7 5\n",
            " 7 2 2 0 3 2 1 0 9 9 3 7 8 8 0 3 0 3 4 0 4 8 7 8 8 9 8 9 2 9 3 0 3 4 8 6 2\n",
            " 8 0 3 2 0 8 0 4 0 4 0 6 5 8 9 4 0 3 6 1 9 3 4 8 8 2 8 4 2 5 8 4 3 1 7 3 4\n",
            " 9 7 4 5 3 8 5 8 6 3 4 5 0 5 2 0 8 4 8 2 1 9 7 7 2 5 9 0 3 7 1 8 5 7 8 6 7\n",
            " 4 0 2 7 0 5 5 9 5 4 1 5 8 3 1 6 0 2 8 1 4 0 2 8 9 8 3 9 4 5 5 8 9 9 7 0 5\n",
            " 3 3 8 8 6 4 9 9 4 1 4 8 7 1 2 1 1 0 3 7 7 8 3 4 4 4 6 1 0 4 9 4 4 6 6 5 6\n",
            " 1 9 5 2 5 1 8 4 9 2 0 7 6 0 3 3 4 1 7 0 8 2 5 2 1 6 1 8 9 5 7 3 4 0 4 0 9\n",
            " 9 5 0 3 5 5 0 0 9 7 1 4 9 0 6 8 7 5 8 0 5 2 5 1 1 3 3 8 0 6 2 9 6 6 4 8 5\n",
            " 5 4 5 3 1 6 9 3 6 8 2 5 5 9 6 1 0 2 2 5 4 4 3 6 2 5 9 5 3 3 3 8 3 7 4 2 5\n",
            " 1 0 5 8 2 2 1 2 1 4 2 5 7 6 6 1 8 9 7 3 0 4 4 5 7 4 7 0 1 9 2 1 8 6 3 8 9\n",
            " 7 5 5 8 9 4 6 9 7 6 5 9 7 1 9 8 9 4 7 5 4 0 0 0 6 1 0 2 5 8 2 1 1 6 7 7 0\n",
            " 9 9 7 9 2 4 5 1 2 1 8 2 2 5 0 3 9 1 9 7 6 6 8 1 0 0 7 6 0 5 7 8 6 4 5 9 3\n",
            " 0 5 2 2 4 4 8 8 0 8 7 1 1 8 7 7 5 5 8 0 8 3 5 2 3 3 3 5 4 3 3 6 1 4 0 0 0\n",
            " 4 9 1 5 4 4 4 2 5 5 9 2 2 6 4 8 5 3 0 1 3 0 2 2 7 7 3 0 0 8 7 5 7 5 1 3 1\n",
            " 8 1 3 3 5 8 5 2 1 3 4 2 0 7 4 0 2 4 3 3 1 8 8 6 8 0 7 8 2 1 3 6 5 1 6 3 9\n",
            " 3 6 8 5 5 2 1 2 7 9 1 6 2 3 1 5 7 1 0 5 5 8 5 2 1 3 0 9 6 5 7 6 2 8 9 6 8\n",
            " 7 2 1 3 5 3 5 1 5 6 5 8 2 6 4 1 4 0 6 8 7 9 5 7 5 9 7 2 3 1 1 8 4 3 7 8 3\n",
            " 4 9 3 2 8 8 0 5 3 9 3 0 1 5 5 5 0 0 9 4 7 7 2 7 8 5 5 6 2 5 0 9 0 0 8 7 3\n",
            " 1 2 6 3 1 7 1 7 0 2 0 6 2 4 4 1 0 1 5 3 0 0 4 3 7 6 7 6 4 1 6 9 2 0 3 4 4\n",
            " 6 3 7 0 0 7 1 2 4 1 1 3 1 0 8 3 6 3 7 0 7 5 4 9 1 3 2 9 2 7 6 7 4 0 7 3 6\n",
            " 8 4 0 9 9 9 4 9 0 2 0 1 6 7 4 9 0 7 4 5 1 1 4 7 6 1 2 9 8 1 7 6 4 5 9 5 1\n",
            " 0]\n"
          ]
        },
        {
          "output_type": "execute_result",
          "data": {
            "text/plain": [
              "0.852"
            ]
          },
          "metadata": {},
          "execution_count": 37
        }
      ]
    },
    {
      "cell_type": "markdown",
      "source": [
        "# Multiple hidden layer\n"
      ],
      "metadata": {
        "id": "sepOdOR69i0u"
      }
    },
    {
      "cell_type": "code",
      "source": [
        "def init_params():\n",
        "    W1 = np.random.rand(10, 784) - 0.5\n",
        "    b1 = np.random.rand(10, 1) - 0.5\n",
        "\n",
        "\n",
        "    W2 = np.random.rand(15, 10) - 0.5\n",
        "    b2 = np.random.rand(15, 1) - 0.5\n",
        "\n",
        "    W3 = np.random.rand(12,15) - 0.5\n",
        "    b3 = np.random.rand(12, 1) - 0.5\n",
        "\n",
        "    W4 = np.random.rand(10,12) - 0.5\n",
        "    b4 = np.random.rand(10, 1) - 0.5\n",
        "\n",
        "    return W1, b1, W2, b2, W3, b3, W4, b4\n"
      ],
      "metadata": {
        "id": "UQYuaCnHIGSS"
      },
      "execution_count": null,
      "outputs": []
    },
    {
      "cell_type": "code",
      "source": [
        "def sigmoid(x):\n",
        "\n",
        "    return 1 / (1 + np.exp(-x))"
      ],
      "metadata": {
        "id": "iBG5LR42DbfL"
      },
      "execution_count": null,
      "outputs": []
    },
    {
      "cell_type": "code",
      "source": [
        "plot_activation_function(sigmoid, 'sigmoid function', x_range)"
      ],
      "metadata": {
        "colab": {
          "base_uri": "https://localhost:8080/",
          "height": 472
        },
        "id": "ILkccrSspOtZ",
        "outputId": "7b8586e1-3992-4ead-a804-ee2060e419ff"
      },
      "execution_count": null,
      "outputs": [
        {
          "output_type": "display_data",
          "data": {
            "text/plain": [
              "<Figure size 640x480 with 1 Axes>"
            ],
            "image/png": "[encoded data removed]"
          },
          "metadata": {}
        }
      ]
    },
    {
      "cell_type": "code",
      "source": [
        "def sigmoid_derivative(x):\n",
        "    return sigmoid(x) * (1 - sigmoid(x))"
      ],
      "metadata": {
        "id": "wyf2mMO8DffS"
      },
      "execution_count": null,
      "outputs": []
    },
    {
      "cell_type": "code",
      "source": [
        "plot_activation_function(sigmoid_derivative, 'sigmoid function', x_range)"
      ],
      "metadata": {
        "colab": {
          "base_uri": "https://localhost:8080/",
          "height": 472
        },
        "id": "O_AFi6PlpE2D",
        "outputId": "2e6d2e94-647b-4162-8a51-766adecea7fc"
      },
      "execution_count": null,
      "outputs": [
        {
          "output_type": "display_data",
          "data": {
            "text/plain": [
              "<Figure size 640x480 with 1 Axes>"
            ],
            "image/png": "[encoded data removed]"
          },
          "metadata": {}
        }
      ]
    },
    {
      "cell_type": "code",
      "source": [
        "def tanh(x):\n",
        "\n",
        "    return np.tanh(x)"
      ],
      "metadata": {
        "id": "3LqkHKJWDdJd"
      },
      "execution_count": null,
      "outputs": []
    },
    {
      "cell_type": "code",
      "source": [
        "def plot_activation_function(func, func_name, x_range):\n",
        "    y = func(x_range)\n",
        "    plt.plot(x_range, y, label=func_name)\n",
        "    plt.title(f'{func_name} Activation Function')\n",
        "    plt.xlabel('Input')\n",
        "    plt.ylabel('Output')\n",
        "    plt.legend()\n",
        "    plt.grid()\n",
        "    plt.show()\n",
        "\n",
        "# Generate a range of values for the input\n",
        "x_range = np.linspace(-10, 10, 200)\n",
        "\n",
        "# Plot the tanh activation function using the plot_activation_function function\n",
        "plot_activation_function(tanh, 'Hyperbolic Tangent (tanh)', x_range)"
      ],
      "metadata": {
        "colab": {
          "base_uri": "https://localhost:8080/",
          "height": 472
        },
        "id": "19G6a7RJoubc",
        "outputId": "ebc873aa-280d-4958-e567-8c19d3005555"
      },
      "execution_count": null,
      "outputs": [
        {
          "output_type": "display_data",
          "data": {
            "text/plain": [
              "<Figure size 640x480 with 1 Axes>"
            ],
            "image/png": "[encoded data removed]"
          },
          "metadata": {}
        }
      ]
    },
    {
      "cell_type": "code",
      "source": [
        "def tanh_derivative(x):\n",
        "    return 1 - tanh(x)**2"
      ],
      "metadata": {
        "id": "iFxRNaJtDhZN"
      },
      "execution_count": null,
      "outputs": []
    },
    {
      "cell_type": "code",
      "source": [
        "plot_activation_function(tanh_derivative, 'Hyperbolic Tangent (tanh)', x_range)"
      ],
      "metadata": {
        "colab": {
          "base_uri": "https://localhost:8080/",
          "height": 472
        },
        "id": "i29-vJGPo2qI",
        "outputId": "e0777f4e-1385-4e2f-b7a5-989f584fc897"
      },
      "execution_count": null,
      "outputs": [
        {
          "output_type": "display_data",
          "data": {
            "text/plain": [
              "<Figure size 640x480 with 1 Axes>"
            ],
            "image/png": "[encoded data removed]"
          },
          "metadata": {}
        }
      ]
    },
    {
      "cell_type": "code",
      "source": [
        "def forward_prop(W1, b1, W2, b2,W3,b3,W4,b4, X):\n",
        "    Z1 = W1.dot(X) + b1\n",
        "    A1 = ReLU(Z1)\n",
        "\n",
        "    Z2 = W2.dot(A1) + b2\n",
        "    A2 = sigmoid(Z2)\n",
        "\n",
        "    Z3 = W3.dot(A2) + b3\n",
        "    A3 = tanh(Z3)\n",
        "\n",
        "    Z4 = W4.dot(A3) + b4\n",
        "    A4 = softmax(Z4)\n",
        "    return Z1, A1, Z2, A2, Z3,A3,Z4,A4"
      ],
      "metadata": {
        "id": "2-Z7zH6L9tw0"
      },
      "execution_count": null,
      "outputs": []
    },
    {
      "cell_type": "code",
      "source": [
        "def one_hot(Y):\n",
        "    Y = Y.astype(int)  # Convert Y to integer type\n",
        "    one_hot_Y = np.zeros((Y.size, Y.max() + 1))\n",
        "    one_hot_Y[np.arange(Y.size), Y] = 1\n",
        "    one_hot_Y = one_hot_Y.T\n",
        "    return one_hot_Y"
      ],
      "metadata": {
        "id": "i9-2Ec1t-JtQ"
      },
      "execution_count": null,
      "outputs": []
    },
    {
      "cell_type": "code",
      "source": [
        "def backward_prop(Z1, A1, Z2, A2, Z3, A3, Z4,A4, W1, W2,W3,W4, X, Y):\n",
        "    one_hot_Y = one_hot(Y)\n",
        "\n",
        "    dZ4 = A4 - one_hot_Y\n",
        "    dW4 = 1 / m * dZ4.dot(A3.T)\n",
        "    db4 = 1 / m * np.sum(dZ4)\n",
        "\n",
        "    dZ3 = W4.T.dot(dZ4) * tanh_derivative(Z3)\n",
        "    dW3 = 1 / m * dZ3.dot(A2.T)\n",
        "    db3 = 1 / m * np.sum(dZ3)\n",
        "\n",
        "    dZ2 = W3.T.dot(dZ3) * sigmoid_derivative(Z2)\n",
        "    dW2 = 1 / m * dZ2.dot(A1.T)\n",
        "    db2 = 1 / m * np.sum(dZ2)\n",
        "\n",
        "    dZ1 = W2.T.dot(dZ2) * ReLU_deriv(Z1)\n",
        "    dW1 = 1 / m * dZ1.dot(X.T)\n",
        "    db1 = 1 / m * np.sum(dZ1)\n",
        "\n",
        "\n",
        "\n",
        "\n",
        "    return dW1, db1, dW2, db2, dW3, db3, dW4,db4"
      ],
      "metadata": {
        "id": "hwRviowO-Qdt"
      },
      "execution_count": null,
      "outputs": []
    },
    {
      "cell_type": "code",
      "source": [
        "\n",
        "def update_params(W1, b1, W2, b2,W3,b3,W4,b4, dW1, db1, dW2, db2,dW3,db3,dW4,db4, alpha):\n",
        "    W1 = W1 - alpha * dW1\n",
        "    b1 = b1 - alpha * db1\n",
        "\n",
        "    W2 = W2 - alpha * dW2\n",
        "    b2 = b2 - alpha * db2\n",
        "\n",
        "    W3 = W3 - alpha * dW3\n",
        "    b3 = b3 - alpha * db3\n",
        "\n",
        "    W4 = W4 - alpha * dW4\n",
        "    b4 = b4 - alpha * db4\n",
        "\n",
        "    return W1, b1, W2, b2, W3, b3, W4, b4"
      ],
      "metadata": {
        "id": "_IBDQtS4-TnF"
      },
      "execution_count": null,
      "outputs": []
    },
    {
      "cell_type": "code",
      "source": [
        "def get_predictions(A2):\n",
        "    return np.argmax(A2, 0)\n"
      ],
      "metadata": {
        "id": "ZmNpIHBv-WwQ"
      },
      "execution_count": null,
      "outputs": []
    },
    {
      "cell_type": "code",
      "source": [
        "def get_accuracy(predictions, Y):\n",
        "    print(predictions, Y)\n",
        "    return np.sum(predictions == Y) / Y.size\n",
        "# Example predicted vector and ground truth vector\n",
        "predicted = np.array([0, 1, 1, 0, 2])\n",
        "ground_truth = np.array([0, 1, 1, 0, 3])\n",
        "# Calculate accuracy\n",
        "accuracy = get_accuracy(predicted, ground_truth)\n",
        "print(\"Accuracy:\", accuracy)\n"
      ],
      "metadata": {
        "colab": {
          "base_uri": "https://localhost:8080/"
        },
        "id": "PUOjMHkM-Yyd",
        "outputId": "9f4fa420-16c7-42ee-ac8c-ae1f2f229543"
      },
      "execution_count": null,
      "outputs": [
        {
          "output_type": "stream",
          "name": "stdout",
          "text": [
            "[0 1 1 0 2] [0 1 1 0 3]\n",
            "Accuracy: 0.8\n"
          ]
        }
      ]
    },
    {
      "cell_type": "code",
      "source": [
        "\n",
        "def gradient_descent(X, Y, alpha, iterations):\n",
        "    W1, b1, W2, b2, W3, b3, W4, b4 = init_params()\n",
        "    accuracy_scores = []\n",
        "    for i in range(iterations):\n",
        "        Z1, A1, Z2, A2, Z3, A3, Z4, A4 = forward_prop(W1, b1, W2, b2,W3,b3,W4,b4, X)\n",
        "        dW1, db1, dW2, db2, dW3, db3, dW4,db4 = backward_prop(Z1, A1, Z2, A2, Z3, A3, Z4,A4, W1, W2,W3,W4, X, Y)\n",
        "        W1, b1, W2, b2, W3, b3, W4, b4 = update_params(W1, b1, W2, b2,W3,b3,W4,b4, dW1, db1, dW2, db2,dW3,db3,dW4,db4, alpha)\n",
        "        if i % 10 == 0:\n",
        "            print(\"Iteration: \", i)\n",
        "            predictions = get_predictions(A4)\n",
        "            accuracy = get_accuracy(predictions, Y)\n",
        "            print(accuracy)\n",
        "            accuracy_scores.append((i, accuracy))\n",
        "\n",
        "    # Convert accuracy_scores to separate lists for plotting\n",
        "    iterations, accuracies = zip(*accuracy_scores)\n",
        "\n",
        "    # Plotting accuracy vs iterations\n",
        "    plt.plot(iterations, accuracies)\n",
        "    plt.xlabel('Iterations')\n",
        "    plt.ylabel('Accuracy')\n",
        "    plt.title('Accuracy vs Iterations')\n",
        "    plt.show()\n",
        "\n",
        "    return W1, b1, W2, b2, W3,b3,W4,b4"
      ],
      "metadata": {
        "id": "a78zM76K-bCy"
      },
      "execution_count": null,
      "outputs": []
    },
    {
      "cell_type": "code",
      "source": [
        "W1, b1, W2, b2, W3,b3,W4,b4 = gradient_descent(X_train, Y_train, 0.10, 500)"
      ],
      "metadata": {
        "colab": {
          "base_uri": "https://localhost:8080/",
          "height": 1000
        },
        "id": "P9Vz64---oal",
        "outputId": "c7068b70-f1e7-45b5-b08f-30fd9d48ae10"
      },
      "execution_count": null,
      "outputs": [
        {
          "output_type": "stream",
          "name": "stdout",
          "text": [
            "Iteration:  0\n",
            "[9 9 9 ... 9 9 9] [7 4 3 ... 5 7 1]\n",
            "0.09597560975609756\n",
            "Iteration:  10\n",
            "[9 9 9 ... 9 9 0] [7 4 3 ... 5 7 1]\n",
            "0.09553658536585366\n",
            "Iteration:  20\n",
            "[4 0 3 ... 9 1 0] [7 4 3 ... 5 7 1]\n",
            "0.14826829268292682\n",
            "Iteration:  30\n",
            "[4 0 3 ... 3 1 0] [7 4 3 ... 5 7 1]\n",
            "0.19653658536585367\n",
            "Iteration:  40\n",
            "[4 7 3 ... 3 1 2] [7 4 3 ... 5 7 1]\n",
            "0.21373170731707317\n",
            "Iteration:  50\n",
            "[4 2 3 ... 3 1 2] [7 4 3 ... 5 7 1]\n",
            "0.2238048780487805\n",
            "Iteration:  60\n",
            "[4 2 3 ... 3 1 2] [7 4 3 ... 5 7 1]\n",
            "0.2370731707317073\n",
            "Iteration:  70\n",
            "[4 2 3 ... 3 1 2] [7 4 3 ... 5 7 1]\n",
            "0.2509268292682927\n",
            "Iteration:  80\n",
            "[4 4 3 ... 3 1 2] [7 4 3 ... 5 7 1]\n",
            "0.26278048780487806\n",
            "Iteration:  90\n",
            "[4 4 3 ... 3 1 2] [7 4 3 ... 5 7 1]\n",
            "0.2749268292682927\n",
            "Iteration:  100\n",
            "[4 4 3 ... 3 1 2] [7 4 3 ... 5 7 1]\n",
            "0.28621951219512193\n",
            "Iteration:  110\n",
            "[4 4 3 ... 3 1 2] [7 4 3 ... 5 7 1]\n",
            "0.29753658536585365\n",
            "Iteration:  120\n",
            "[4 4 3 ... 3 1 2] [7 4 3 ... 5 7 1]\n",
            "0.311\n",
            "Iteration:  130\n",
            "[4 4 3 ... 3 1 2] [7 4 3 ... 5 7 1]\n",
            "0.3245609756097561\n",
            "Iteration:  140\n",
            "[4 4 3 ... 3 1 2] [7 4 3 ... 5 7 1]\n",
            "0.339609756097561\n",
            "Iteration:  150\n",
            "[4 4 3 ... 3 1 2] [7 4 3 ... 5 7 1]\n",
            "0.35721951219512194\n",
            "Iteration:  160\n",
            "[4 4 3 ... 3 7 2] [7 4 3 ... 5 7 1]\n",
            "0.37458536585365854\n",
            "Iteration:  170\n",
            "[4 4 3 ... 3 7 2] [7 4 3 ... 5 7 1]\n",
            "0.3937560975609756\n",
            "Iteration:  180\n",
            "[4 4 3 ... 3 7 2] [7 4 3 ... 5 7 1]\n",
            "0.4154390243902439\n",
            "Iteration:  190\n",
            "[4 4 3 ... 3 7 2] [7 4 3 ... 5 7 1]\n",
            "0.43614634146341463\n",
            "Iteration:  200\n",
            "[4 4 3 ... 3 7 2] [7 4 3 ... 5 7 1]\n",
            "0.4599268292682927\n",
            "Iteration:  210\n",
            "[4 4 3 ... 3 7 6] [7 4 3 ... 5 7 1]\n",
            "0.4851463414634146\n",
            "Iteration:  220\n",
            "[4 4 3 ... 3 7 6] [7 4 3 ... 5 7 1]\n",
            "0.5073170731707317\n",
            "Iteration:  230\n",
            "[4 4 3 ... 3 7 6] [7 4 3 ... 5 7 1]\n",
            "0.5239024390243903\n",
            "Iteration:  240\n",
            "[4 4 3 ... 3 7 6] [7 4 3 ... 5 7 1]\n",
            "0.5346829268292683\n",
            "Iteration:  250\n",
            "[4 4 3 ... 3 7 6] [7 4 3 ... 5 7 1]\n",
            "0.5446585365853659\n",
            "Iteration:  260\n",
            "[4 4 3 ... 3 7 1] [7 4 3 ... 5 7 1]\n",
            "0.5523170731707318\n",
            "Iteration:  270\n",
            "[4 4 3 ... 3 7 1] [7 4 3 ... 5 7 1]\n",
            "0.5595365853658537\n",
            "Iteration:  280\n",
            "[4 4 3 ... 3 7 1] [7 4 3 ... 5 7 1]\n",
            "0.5669756097560975\n",
            "Iteration:  290\n",
            "[4 4 3 ... 3 7 1] [7 4 3 ... 5 7 1]\n",
            "0.5743658536585365\n",
            "Iteration:  300\n",
            "[4 4 3 ... 3 7 1] [7 4 3 ... 5 7 1]\n",
            "0.5814390243902439\n",
            "Iteration:  310\n",
            "[4 4 3 ... 3 7 1] [7 4 3 ... 5 7 1]\n",
            "0.589170731707317\n",
            "Iteration:  320\n",
            "[4 4 3 ... 3 7 1] [7 4 3 ... 5 7 1]\n",
            "0.5964146341463414\n",
            "Iteration:  330\n",
            "[4 4 3 ... 3 7 1] [7 4 3 ... 5 7 1]\n",
            "0.6032439024390244\n",
            "Iteration:  340\n",
            "[4 4 3 ... 3 7 1] [7 4 3 ... 5 7 1]\n",
            "0.6099756097560975\n",
            "Iteration:  350\n",
            "[4 4 3 ... 3 7 1] [7 4 3 ... 5 7 1]\n",
            "0.6174878048780488\n",
            "Iteration:  360\n",
            "[4 4 3 ... 5 7 1] [7 4 3 ... 5 7 1]\n",
            "0.6244878048780488\n",
            "Iteration:  370\n",
            "[4 4 3 ... 5 7 1] [7 4 3 ... 5 7 1]\n",
            "0.632\n",
            "Iteration:  380\n",
            "[4 4 3 ... 5 7 1] [7 4 3 ... 5 7 1]\n",
            "0.6399024390243903\n",
            "Iteration:  390\n",
            "[4 4 3 ... 5 7 1] [7 4 3 ... 5 7 1]\n",
            "0.6466585365853659\n",
            "Iteration:  400\n",
            "[4 4 3 ... 5 7 1] [7 4 3 ... 5 7 1]\n",
            "0.6533414634146342\n",
            "Iteration:  410\n",
            "[4 4 3 ... 5 7 1] [7 4 3 ... 5 7 1]\n",
            "0.6593658536585366\n",
            "Iteration:  420\n",
            "[4 4 3 ... 5 7 1] [7 4 3 ... 5 7 1]\n",
            "0.6656829268292683\n",
            "Iteration:  430\n",
            "[4 4 3 ... 5 7 1] [7 4 3 ... 5 7 1]\n",
            "0.6713902439024391\n",
            "Iteration:  440\n",
            "[4 4 3 ... 5 7 1] [7 4 3 ... 5 7 1]\n",
            "0.6779512195121952\n",
            "Iteration:  450\n",
            "[4 4 3 ... 5 7 1] [7 4 3 ... 5 7 1]\n",
            "0.6846341463414635\n",
            "Iteration:  460\n",
            "[4 4 3 ... 5 7 1] [7 4 3 ... 5 7 1]\n",
            "0.6910243902439024\n",
            "Iteration:  470\n",
            "[4 4 3 ... 5 7 1] [7 4 3 ... 5 7 1]\n",
            "0.6965365853658536\n",
            "Iteration:  480\n",
            "[4 4 3 ... 5 7 1] [7 4 3 ... 5 7 1]\n",
            "0.7019268292682926\n",
            "Iteration:  490\n",
            "[4 4 3 ... 5 7 1] [7 4 3 ... 5 7 1]\n",
            "0.7068292682926829\n"
          ]
        },
        {
          "output_type": "display_data",
          "data": {
            "text/plain": [
              "<Figure size 640x480 with 1 Axes>"
            ],
            "image/png": "[encoded data removed]"
          },
          "metadata": {}
        }
      ]
    },
    {
      "cell_type": "code",
      "source": [
        "def make_predictions(X, W1, b1, W2, b2,W3,b3,W4,b4):\n",
        "    Z1, A1, Z2, A2, Z3,A3,Z4,A4 = forward_prop(W1, b1, W2, b2,W3,b3,W4,b4, X)\n",
        "    predictions = get_predictions(A4)\n",
        "    return predictions"
      ],
      "metadata": {
        "id": "o8zOh20V-vkk"
      },
      "execution_count": null,
      "outputs": []
    },
    {
      "cell_type": "code",
      "source": [
        "def test_prediction(index, W1, b1, W2, b2,W3,b3,W4,b4):\n",
        "    current_image = X_train[:, index, None]\n",
        "    prediction = make_predictions(X_train[:, index, None], W1, b1, W2, b2,W3,b3,W4,b4)\n",
        "    label = Y_train[index]\n",
        "    print(\"Prediction: \", prediction)\n",
        "    print(\"Label: \", label)\n",
        "\n",
        "    current_image = current_image.reshape((28, 28)) * 255\n",
        "    plt.gray()\n",
        "    plt.imshow(current_image, interpolation='nearest')\n",
        "    plt.show()"
      ],
      "metadata": {
        "id": "LK-ARCcn-x53"
      },
      "execution_count": null,
      "outputs": []
    },
    {
      "cell_type": "code",
      "source": [
        "test_prediction(0, W1, b1, W2, b2,W3,b3,W4,b4)\n",
        "test_prediction(1, W1, b1, W2, b2,W3,b3,W4,b4)\n",
        "test_prediction(2, W1, b1, W2, b2,W3,b3,W4,b4)\n",
        "test_prediction(3, W1, b1, W2, b2,W3,b3,W4,b4)"
      ],
      "metadata": {
        "colab": {
          "base_uri": "https://localhost:8080/",
          "height": 1000
        },
        "id": "Spiijk8Z-0ND",
        "outputId": "1cb9f6c7-f6dc-406c-ec1b-5572ac421fb3"
      },
      "execution_count": null,
      "outputs": [
        {
          "output_type": "stream",
          "name": "stdout",
          "text": [
            "Prediction:  [4]\n",
            "Label:  7\n"
          ]
        },
        {
          "output_type": "display_data",
          "data": {
            "text/plain": [
              "<Figure size 640x480 with 1 Axes>"
            ],
            "image/png": "[encoded data removed]"
          },
          "metadata": {}
        },
        {
          "output_type": "stream",
          "name": "stdout",
          "text": [
            "Prediction:  [4]\n",
            "Label:  4\n"
          ]
        },
        {
          "output_type": "display_data",
          "data": {
            "text/plain": [
              "<Figure size 640x480 with 1 Axes>"
            ],
            "image/png": "[encoded data removed]"
          },
          "metadata": {}
        },
        {
          "output_type": "stream",
          "name": "stdout",
          "text": [
            "Prediction:  [3]\n",
            "Label:  3\n"
          ]
        },
        {
          "output_type": "display_data",
          "data": {
            "text/plain": [
              "<Figure size 640x480 with 1 Axes>"
            ],
            "image/png": "[encoded data removed]"
          },
          "metadata": {}
        },
        {
          "output_type": "stream",
          "name": "stdout",
          "text": [
            "Prediction:  [7]\n",
            "Label:  7\n"
          ]
        },
        {
          "output_type": "display_data",
          "data": {
            "text/plain": [
              "<Figure size 640x480 with 1 Axes>"
            ],
            "image/png": "[encoded data removed]"
          },
          "metadata": {}
        }
      ]
    },
    {
      "cell_type": "code",
      "source": [
        "test_predictions = make_predictions(X_test, W1, b1, W2, b2, W3, b3, W4, b4)\n",
        "get_accuracy(test_predictions, Y_test)"
      ],
      "metadata": {
        "colab": {
          "base_uri": "https://localhost:8080/"
        },
        "id": "TOM07Jjh-72R",
        "outputId": "1b39637d-85ae-48a6-aa4c-54f819afa52b"
      },
      "execution_count": null,
      "outputs": [
        {
          "output_type": "stream",
          "name": "stdout",
          "text": [
            "[7 6 6 7 0 4 6 8 1 5 4 0 0 2 4 1 0 9 1 1 0 7 9 2 0 8 8 0 0 3 4 0 6 3 4 6 7\n",
            " 6 2 7 0 4 7 8 7 7 6 3 2 7 6 4 7 1 3 1 2 4 3 6 6 0 1 3 6 9 7 3 4 4 4 0 6 8\n",
            " 7 5 0 6 0 6 6 9 1 5 6 9 0 1 6 2 3 7 2 5 7 0 0 3 4 2 9 4 4 2 4 7 6 6 2 2 3\n",
            " 3 4 0 2 7 3 6 6 2 7 2 8 0 7 3 7 4 4 3 1 3 0 4 2 8 4 7 4 8 7 6 4 9 3 8 5 7\n",
            " 6 1 1 4 2 8 3 4 7 7 6 6 1 0 0 5 7 3 5 9 0 4 9 0 2 0 4 6 6 4 4 7 5 6 2 9 6\n",
            " 4 8 1 3 0 6 0 9 0 8 4 4 9 5 1 8 8 1 3 8 6 0 4 7 3 7 7 2 0 9 0 4 2 6 7 0 7\n",
            " 0 4 7 8 7 7 7 3 0 3 1 3 2 9 3 2 8 0 2 2 8 0 2 0 9 4 0 9 4 6 3 7 8 3 9 3 3\n",
            " 2 6 3 4 0 1 1 8 0 0 4 7 3 3 2 7 1 0 6 9 6 2 9 7 1 0 9 4 4 0 6 1 0 5 2 1 2\n",
            " 6 2 7 7 4 6 1 6 3 3 6 0 6 7 3 7 9 4 9 1 0 4 6 8 3 8 3 6 4 3 4 0 3 3 1 7 4\n",
            " 0 2 7 5 3 7 8 2 2 2 1 6 3 7 2 2 1 2 0 8 4 4 0 4 2 8 8 8 7 3 7 3 7 0 7 7 3\n",
            " 0 2 3 0 0 1 7 6 8 7 7 8 8 4 9 0 7 2 2 8 0 0 0 6 9 2 3 0 4 1 4 8 1 9 6 3 9\n",
            " 4 1 3 2 0 9 2 5 0 1 7 8 9 1 4 0 0 3 3 0 6 7 7 4 0 6 0 6 0 7 3 2 0 8 5 6 6\n",
            " 8 0 1 8 8 1 5 9 0 7 0 1 6 0 1 6 5 0 4 2 3 4 3 9 3 0 2 4 0 6 3 2 1 0 9 6 0\n",
            " 4 7 4 1 1 4 7 0 8 2 0 8 6 2 2 3 0 4 7 9 1 6 9 4 3 3 3 1 2 7 3 4 9 4 2 4 3\n",
            " 6 1 8 7 2 0 7 7 4 7 0 7 4 7 9 8 2 3 1 4 9 6 3 1 0 3 8 2 6 4 1 4 3 6 4 3 4\n",
            " 7 7 8 6 8 1 8 2 6 2 3 6 3 0 3 0 8 9 0 9 0 9 0 0 3 7 4 3 9 6 9 3 6 7 4 4 1\n",
            " 6 7 8 1 9 0 8 7 0 1 8 1 8 0 6 8 2 4 1 8 6 7 7 0 3 2 3 6 1 7 7 2 8 1 0 8 3\n",
            " 5 4 3 0 2 0 0 0 4 4 6 3 1 7 6 4 9 1 0 1 0 6 1 4 1 4 0 1 8 1 8 3 7 2 7 5 3\n",
            " 0 6 7 3 1 8 3 8 8 6 3 1 4 0 0 9 3 6 3 4 3 0 5 1 7 9 1 3 0 7 6 6 4 3 3 1 6\n",
            " 4 4 8 1 1 0 4 0 4 0 3 7 7 3 9 7 8 0 4 8 0 2 3 3 6 2 1 0 1 4 8 3 6 7 1 9 3\n",
            " 4 4 6 7 1 4 3 9 0 0 0 7 1 7 6 0 4 2 8 1 0 0 3 4 2 3 8 7 1 7 8 0 3 4 7 6 2\n",
            " 5 6 6 0 0 1 3 3 0 1 1 3 2 0 1 7 4 2 1 2 3 0 6 4 2 0 4 8 0 4 6 3 0 4 1 7 4\n",
            " 9 2 1 3 7 6 7 6 2 3 1 2 3 5 1 8 3 3 8 8 0 0 1 9 6 8 2 0 6 9 6 7 8 3 6 1 7\n",
            " 3 3 1 9 8 2 7 5 8 4 2 3 2 5 0 2 9 1 8 4 4 9 6 0 4 2 9 3 9 7 5 9 3 4 0 4 0\n",
            " 1 6 4 4 6 4 0 4 4 7 6 3 8 3 1 3 7 0 3 8 4 4 4 6 5 3 0 7 4 7 6 4 6 6 6 7 5\n",
            " 3 8 2 7 9 9 0 8 7 3 2 3 3 9 8 4 1 0 2 0 0 1 7 2 2 6 0 4 0 0 7 6 0 0 6 6 6\n",
            " 6 6 4 8 9 4 9 4 8 6 5 2 8 7 6 4 2 0 1 6 4 1 1 6 0 3 2 4 3 2 3 2 0 2 6 4 2\n",
            " 5] [7 6 6 7 0 4 6 5 1 5 4 0 0 3 4 8 8 9 1 1 0 7 7 2 8 5 8 5 0 8 9 3 6 8 4 6 4\n",
            " 2 2 7 5 4 8 5 7 9 6 5 2 7 6 4 7 1 3 1 6 9 5 6 6 6 1 5 6 9 7 3 4 4 4 0 6 1\n",
            " 9 5 0 9 0 2 6 4 2 3 8 9 0 1 6 2 3 7 2 8 7 0 0 7 9 2 9 4 4 9 9 9 6 2 2 2 3\n",
            " 8 4 5 2 7 8 6 6 2 9 6 8 5 8 9 3 9 4 5 1 1 0 4 6 5 9 7 4 5 9 6 2 9 3 2 5 3\n",
            " 3 1 1 9 2 8 3 4 7 7 6 6 1 8 3 3 7 3 5 7 5 4 9 0 2 5 4 4 6 4 4 7 0 6 2 4 6\n",
            " 9 3 1 3 8 6 0 9 0 5 7 4 7 8 1 8 8 1 5 8 6 2 4 7 3 7 2 2 0 9 0 4 2 6 7 5 7\n",
            " 0 4 7 5 7 7 7 5 0 3 1 3 2 9 3 2 5 0 2 2 8 5 2 0 9 4 0 9 4 6 3 7 2 3 9 3 3\n",
            " 8 6 5 4 5 1 1 8 0 0 4 7 3 3 2 7 1 8 6 9 6 2 9 7 5 5 9 4 9 5 6 1 0 5 2 1 6\n",
            " 6 2 9 7 4 6 1 6 8 3 6 5 6 7 8 4 7 4 9 1 3 9 6 8 3 8 0 6 9 3 4 0 8 5 1 7 4\n",
            " 0 2 7 5 3 7 5 3 2 6 1 6 3 7 2 2 1 2 8 8 9 9 8 2 2 5 8 0 7 3 7 3 9 0 7 7 8\n",
            " 0 9 3 2 0 1 3 6 8 4 7 0 8 4 9 6 7 6 0 8 2 0 8 5 7 2 3 8 4 5 4 3 1 7 0 8 4\n",
            " 9 1 2 2 2 9 2 5 8 1 7 5 9 5 4 0 0 3 5 0 6 7 7 4 0 6 3 6 0 7 3 2 0 8 5 5 2\n",
            " 3 0 5 3 8 1 5 9 0 9 0 1 6 0 1 6 5 8 4 2 5 4 8 8 8 0 6 9 0 6 3 2 1 5 9 6 0\n",
            " 4 7 4 5 1 2 4 5 0 2 0 8 2 2 2 8 0 4 9 7 1 6 9 9 3 3 3 1 2 7 8 4 7 4 2 5 3\n",
            " 6 1 8 7 2 0 7 9 4 9 8 7 9 9 7 8 2 3 1 9 9 6 5 1 5 3 8 2 6 4 5 4 3 6 4 3 4\n",
            " 7 9 8 6 8 1 5 4 6 2 3 6 5 5 3 0 8 9 0 7 0 2 8 0 5 9 4 3 9 6 2 3 6 7 0 4 1\n",
            " 6 7 8 8 9 0 9 7 0 1 8 1 2 6 2 2 2 9 1 8 6 7 7 8 3 2 8 6 1 7 7 2 8 1 0 8 3\n",
            " 5 8 5 0 4 0 3 5 9 9 6 5 1 7 3 4 4 1 0 1 0 6 1 4 1 4 3 1 8 1 8 3 7 2 5 8 3\n",
            " 5 6 7 7 2 8 5 8 3 6 5 1 4 0 0 9 5 6 3 4 3 5 3 1 7 9 1 3 0 7 6 6 4 8 3 1 6\n",
            " 4 4 0 1 1 0 4 0 5 0 3 7 7 3 9 7 0 5 9 8 0 2 0 3 6 2 1 0 1 4 5 8 6 1 1 9 3\n",
            " 4 4 6 7 1 9 3 9 5 0 0 7 1 7 6 0 9 6 2 1 0 0 3 4 2 8 5 7 1 7 2 0 3 4 7 6 2\n",
            " 7 6 6 0 0 1 3 3 0 1 2 8 2 3 1 7 9 0 1 2 2 6 6 4 2 5 9 8 2 4 6 3 0 7 8 7 4\n",
            " 9 1 1 3 5 6 7 6 2 3 1 2 5 5 1 8 3 3 9 8 0 0 1 7 6 5 6 8 2 9 6 9 8 8 6 1 9\n",
            " 5 2 1 7 8 2 7 5 8 4 3 8 2 5 5 2 9 1 2 4 4 9 6 5 4 2 9 3 9 7 5 9 8 9 6 4 0\n",
            " 1 6 4 4 6 4 8 4 5 7 6 3 8 0 1 8 9 0 3 0 9 4 9 6 0 3 5 7 4 7 2 4 6 6 6 9 0\n",
            " 5 8 9 7 9 9 5 8 7 3 2 8 3 4 0 4 1 5 2 0 5 1 7 2 2 6 3 4 3 0 7 6 0 8 8 6 2\n",
            " 6 2 4 8 9 9 9 4 8 6 8 2 8 9 6 4 2 0 1 6 4 1 1 6 5 3 2 4 5 2 9 2 6 2 6 4 3\n",
            " 8]\n"
          ]
        },
        {
          "output_type": "execute_result",
          "data": {
            "text/plain": [
              "0.684"
            ]
          },
          "metadata": {},
          "execution_count": 109
        }
      ]
    },
    {
      "cell_type": "markdown",
      "source": [
        "# Different initialization\n"
      ],
      "metadata": {
        "id": "BdokpxtpFWVz"
      }
    },
    {
      "cell_type": "code",
      "source": [
        "def init_params_kaiming():\n",
        "    def kaiming_initializer(n_in):\n",
        "        return np.random.normal(0, np.sqrt(2 / n_in))\n",
        "\n",
        "    W1 = kaiming_initializer(784) * np.random.randn(10, 784)\n",
        "    b1 = np.zeros((10, 1))\n",
        "\n",
        "    W2 = kaiming_initializer(10) * np.random.randn(15, 10)\n",
        "    b2 = np.zeros((15, 1))\n",
        "\n",
        "    W3 = kaiming_initializer(15) * np.random.randn(12, 15)\n",
        "    b3 = np.zeros((12, 1))\n",
        "\n",
        "    W4 = kaiming_initializer(12) * np.random.randn(10, 12)\n",
        "    b4 = np.zeros((10, 1))\n",
        "\n",
        "    return W1, b1, W2, b2, W3, b3, W4, b4"
      ],
      "metadata": {
        "id": "_L01nJpx-785"
      },
      "execution_count": null,
      "outputs": []
    },
    {
      "cell_type": "code",
      "source": [
        "\n",
        "def init_params_xavier():\n",
        "    def xavier_initializer(n_in, n_out):\n",
        "        bound = np.sqrt(6 / (n_in + n_out))\n",
        "        return np.random.uniform(-bound, bound)\n",
        "\n",
        "    W1 = xavier_initializer(784, 10) * np.random.rand(10, 784)\n",
        "    b1 = np.random.rand(10, 1) - 0.5\n",
        "\n",
        "    W2 = xavier_initializer(10, 15) * np.random.rand(15, 10)\n",
        "    b2 = np.random.rand(15, 1) - 0.5\n",
        "\n",
        "    W3 = xavier_initializer(15, 12) * np.random.rand(12, 15)\n",
        "    b3 = np.random.rand(12, 1) - 0.5\n",
        "\n",
        "    W4 = xavier_initializer(12, 10) * np.random.rand(10, 12)\n",
        "    b4 = np.random.rand(10, 1) - 0.5\n",
        "\n",
        "    return W1, b1, W2, b2, W3, b3, W4, b4\n"
      ],
      "metadata": {
        "id": "MmiBiiVVF-Tl"
      },
      "execution_count": null,
      "outputs": []
    },
    {
      "cell_type": "code",
      "source": [
        "\n",
        "def gradient_descent(X, Y, alpha, iterations):\n",
        "    W1, b1, W2, b2, W3, b3, W4, b4 = init_params_xavier()\n",
        "    accuracy_scores = []  # To store accuracy scores at different iterations\n",
        "    for i in range(iterations):\n",
        "        Z1, A1, Z2, A2, Z3, A3, Z4, A4 = forward_prop(W1, b1, W2, b2,W3,b3,W4,b4, X)\n",
        "        dW1, db1, dW2, db2, dW3, db3, dW4,db4 = backward_prop(Z1, A1, Z2, A2, Z3, A3, Z4,A4, W1, W2,W3,W4, X, Y)\n",
        "        W1, b1, W2, b2, W3, b3, W4, b4 = update_params(W1, b1, W2, b2,W3,b3,W4,b4, dW1, db1, dW2, db2,dW3,db3,dW4,db4, alpha)\n",
        "        if i % 10 == 0:\n",
        "            print(\"Iteration: \", i)\n",
        "            predictions = get_predictions(A4)\n",
        "            accuracy = get_accuracy(predictions, Y)\n",
        "            print(accuracy)\n",
        "            accuracy_scores.append((i, accuracy))\n",
        "    # Convert accuracy_scores to separate lists for plotting\n",
        "    iterations, accuracies = zip(*accuracy_scores)\n",
        "\n",
        "    # Plotting accuracy vs iterations\n",
        "    plt.plot(iterations, accuracies)\n",
        "    plt.xlabel('Iterations')\n",
        "    plt.ylabel('Accuracy')\n",
        "    plt.title('Accuracy vs Iterations')\n",
        "    plt.show()\n",
        "\n",
        "    return W1, b1, W2, b2, W3,b3,W4,b4"
      ],
      "metadata": {
        "id": "VBFHOdcfGDJl"
      },
      "execution_count": null,
      "outputs": []
    },
    {
      "cell_type": "code",
      "source": [
        "W1, b1, W2, b2, W3,b3,W4,b4 = gradient_descent(X_train, Y_train, 0.10, 500)"
      ],
      "metadata": {
        "colab": {
          "base_uri": "https://localhost:8080/",
          "height": 1000
        },
        "id": "5Qr_2kRGGFn_",
        "outputId": "53e294d4-1fbe-43dd-c459-9b431864b65f"
      },
      "execution_count": null,
      "outputs": [
        {
          "output_type": "stream",
          "name": "stdout",
          "text": [
            "Iteration:  0\n",
            "[1 1 1 ... 1 1 1] [2 0 9 ... 3 6 2]\n",
            "0.11129268292682927\n",
            "Iteration:  10\n",
            "[1 1 1 ... 1 1 1] [2 0 9 ... 3 6 2]\n",
            "0.11129268292682927\n",
            "Iteration:  20\n",
            "[1 1 1 ... 1 1 1] [2 0 9 ... 3 6 2]\n",
            "0.11129268292682927\n",
            "Iteration:  30\n",
            "[1 1 1 ... 1 1 1] [2 0 9 ... 3 6 2]\n",
            "0.11129268292682927\n",
            "Iteration:  40\n",
            "[1 7 1 ... 7 1 7] [2 0 9 ... 3 6 2]\n",
            "0.1187560975609756\n",
            "Iteration:  50\n",
            "[1 7 1 ... 7 1 7] [2 0 9 ... 3 6 2]\n",
            "0.14817073170731707\n",
            "Iteration:  60\n",
            "[7 7 1 ... 7 7 7] [2 0 9 ... 3 6 2]\n",
            "0.15946341463414634\n",
            "Iteration:  70\n",
            "[7 7 1 ... 7 7 7] [2 0 9 ... 3 6 2]\n",
            "0.15734146341463415\n",
            "Iteration:  80\n",
            "[1 7 1 ... 7 7 7] [2 0 9 ... 3 6 2]\n",
            "0.14795121951219511\n",
            "Iteration:  90\n",
            "[1 7 1 ... 7 1 7] [2 0 9 ... 3 6 2]\n",
            "0.13663414634146342\n",
            "Iteration:  100\n",
            "[1 7 1 ... 7 1 7] [2 0 9 ... 3 6 2]\n",
            "0.12814634146341464\n",
            "Iteration:  110\n",
            "[1 2 1 ... 7 1 7] [2 0 9 ... 3 6 2]\n",
            "0.12436585365853658\n",
            "Iteration:  120\n",
            "[1 2 1 ... 7 1 2] [2 0 9 ... 3 6 2]\n",
            "0.12795121951219512\n",
            "Iteration:  130\n",
            "[1 2 1 ... 1 1 2] [2 0 9 ... 3 6 2]\n",
            "0.1363658536585366\n",
            "Iteration:  140\n",
            "[1 2 1 ... 3 1 2] [2 0 9 ... 3 6 2]\n",
            "0.14804878048780487\n",
            "Iteration:  150\n",
            "[1 2 1 ... 3 3 2] [2 0 9 ... 3 6 2]\n",
            "0.1736341463414634\n",
            "Iteration:  160\n",
            "[1 2 1 ... 3 3 2] [2 0 9 ... 3 6 2]\n",
            "0.18802439024390244\n",
            "Iteration:  170\n",
            "[1 0 1 ... 3 3 0] [2 0 9 ... 3 6 2]\n",
            "0.2312439024390244\n",
            "Iteration:  180\n",
            "[1 0 3 ... 3 3 0] [2 0 9 ... 3 6 2]\n",
            "0.23868292682926828\n",
            "Iteration:  190\n",
            "[3 0 3 ... 3 0 0] [2 0 9 ... 3 6 2]\n",
            "0.24273170731707316\n",
            "Iteration:  200\n",
            "[3 0 3 ... 3 0 0] [2 0 9 ... 3 6 2]\n",
            "0.24502439024390243\n",
            "Iteration:  210\n",
            "[3 0 3 ... 3 0 0] [2 0 9 ... 3 6 2]\n",
            "0.2456829268292683\n",
            "Iteration:  220\n",
            "[3 0 3 ... 3 0 0] [2 0 9 ... 3 6 2]\n",
            "0.24526829268292683\n",
            "Iteration:  230\n",
            "[3 0 3 ... 3 0 0] [2 0 9 ... 3 6 2]\n",
            "0.2446341463414634\n",
            "Iteration:  240\n",
            "[3 0 3 ... 3 0 0] [2 0 9 ... 3 6 2]\n",
            "0.24270731707317073\n",
            "Iteration:  250\n",
            "[3 0 3 ... 3 0 0] [2 0 9 ... 3 6 2]\n",
            "0.24060975609756097\n",
            "Iteration:  260\n",
            "[1 0 3 ... 3 0 0] [2 0 9 ... 3 6 2]\n",
            "0.2385121951219512\n",
            "Iteration:  270\n",
            "[1 0 3 ... 3 0 0] [2 0 9 ... 3 6 2]\n",
            "0.2364390243902439\n",
            "Iteration:  280\n",
            "[1 0 3 ... 3 0 0] [2 0 9 ... 3 6 2]\n",
            "0.23453658536585364\n",
            "Iteration:  290\n",
            "[1 0 3 ... 3 0 0] [2 0 9 ... 3 6 2]\n",
            "0.232\n",
            "Iteration:  300\n",
            "[1 0 3 ... 3 0 0] [2 0 9 ... 3 6 2]\n",
            "0.22970731707317074\n",
            "Iteration:  310\n",
            "[1 0 3 ... 3 0 0] [2 0 9 ... 3 6 2]\n",
            "0.2274878048780488\n",
            "Iteration:  320\n",
            "[1 0 3 ... 3 0 0] [2 0 9 ... 3 6 2]\n",
            "0.2255609756097561\n",
            "Iteration:  330\n",
            "[1 0 3 ... 3 0 0] [2 0 9 ... 3 6 2]\n",
            "0.22421951219512196\n",
            "Iteration:  340\n",
            "[1 0 3 ... 3 0 0] [2 0 9 ... 3 6 2]\n",
            "0.22304878048780488\n",
            "Iteration:  350\n",
            "[1 0 0 ... 3 0 0] [2 0 9 ... 3 6 2]\n",
            "0.22251219512195122\n",
            "Iteration:  360\n",
            "[3 0 0 ... 3 0 0] [2 0 9 ... 3 6 2]\n",
            "0.22246341463414634\n",
            "Iteration:  370\n",
            "[3 0 0 ... 3 0 0] [2 0 9 ... 3 6 2]\n",
            "0.2227560975609756\n",
            "Iteration:  380\n",
            "[3 0 2 ... 3 0 0] [2 0 9 ... 3 6 2]\n",
            "0.22404878048780488\n",
            "Iteration:  390\n",
            "[3 0 2 ... 3 0 0] [2 0 9 ... 3 6 2]\n",
            "0.22621951219512196\n",
            "Iteration:  400\n",
            "[3 0 2 ... 3 0 0] [2 0 9 ... 3 6 2]\n",
            "0.2284390243902439\n",
            "Iteration:  410\n",
            "[3 0 2 ... 3 0 0] [2 0 9 ... 3 6 2]\n",
            "0.23163414634146343\n",
            "Iteration:  420\n",
            "[4 0 4 ... 3 0 0] [2 0 9 ... 3 6 2]\n",
            "0.2341219512195122\n",
            "Iteration:  430\n",
            "[4 0 4 ... 7 0 0] [2 0 9 ... 3 6 2]\n",
            "0.23665853658536584\n",
            "Iteration:  440\n",
            "[4 0 4 ... 7 0 0] [2 0 9 ... 3 6 2]\n",
            "0.24109756097560975\n",
            "Iteration:  450\n",
            "[4 0 9 ... 7 0 0] [2 0 9 ... 3 6 2]\n",
            "0.24597560975609756\n",
            "Iteration:  460\n",
            "[9 0 9 ... 7 0 0] [2 0 9 ... 3 6 2]\n",
            "0.24960975609756098\n",
            "Iteration:  470\n",
            "[9 0 9 ... 7 0 0] [2 0 9 ... 3 6 2]\n",
            "0.25297560975609756\n",
            "Iteration:  480\n",
            "[9 0 9 ... 7 0 0] [2 0 9 ... 3 6 2]\n",
            "0.2556341463414634\n",
            "Iteration:  490\n",
            "[9 0 9 ... 7 0 0] [2 0 9 ... 3 6 2]\n",
            "0.25809756097560976\n"
          ]
        },
        {
          "output_type": "display_data",
          "data": {
            "text/plain": [
              "<Figure size 640x480 with 1 Axes>"
            ],
            "image/png": "[encoded data removed]"
          },
          "metadata": {}
        }
      ]
    },
    {
      "cell_type": "code",
      "source": [
        "def make_predictions(X, W1, b1, W2, b2,W3,b3,W4,b4):\n",
        "    Z1, A1, Z2, A2, Z3,A3,Z4,A4 = forward_prop(W1, b1, W2, b2,W3,b3,W4,b4, X)\n",
        "    predictions = get_predictions(A4)\n",
        "    return predictions\n",
        "\n",
        "def test_prediction(index, W1, b1, W2, b2,W3,b3,W4,b4):\n",
        "    current_image = X_train[:, index, None]\n",
        "    prediction = make_predictions(X_train[:, index, None], W1, b1, W2, b2,W3,b3,W4,b4)\n",
        "    label = Y_train[index]\n",
        "    print(\"Prediction: \", prediction)\n",
        "    print(\"Label: \", label)\n",
        "\n",
        "    current_image = current_image.reshape((28, 28)) * 255\n",
        "    plt.gray()\n",
        "    plt.imshow(current_image, interpolation='nearest')\n",
        "    plt.show()"
      ],
      "metadata": {
        "id": "LYuc9Ya-Vbxj"
      },
      "execution_count": null,
      "outputs": []
    },
    {
      "cell_type": "code",
      "source": [
        "test_prediction(0, W1, b1, W2, b2,W3,b3,W4,b4)\n",
        "test_prediction(1, W1, b1, W2, b2,W3,b3,W4,b4)\n",
        "test_prediction(2, W1, b1, W2, b2,W3,b3,W4,b4)\n",
        "test_prediction(3, W1, b1, W2, b2,W3,b3,W4,b4)"
      ],
      "metadata": {
        "colab": {
          "base_uri": "https://localhost:8080/",
          "height": 1000
        },
        "id": "s88D9KaZVdRr",
        "outputId": "9ab4cc81-b336-4584-a076-d6dcba4c647d"
      },
      "execution_count": null,
      "outputs": [
        {
          "output_type": "stream",
          "name": "stdout",
          "text": [
            "Prediction:  [9]\n",
            "Label:  2\n"
          ]
        },
        {
          "output_type": "display_data",
          "data": {
            "text/plain": [
              "<Figure size 640x480 with 1 Axes>"
            ],
            "image/png": "[encoded data removed]"
          },
          "metadata": {}
        },
        {
          "output_type": "stream",
          "name": "stdout",
          "text": [
            "Prediction:  [0]\n",
            "Label:  0\n"
          ]
        },
        {
          "output_type": "display_data",
          "data": {
            "text/plain": [
              "<Figure size 640x480 with 1 Axes>"
            ],
            "image/png": "[encoded data removed]"
          },
          "metadata": {}
        },
        {
          "output_type": "stream",
          "name": "stdout",
          "text": [
            "Prediction:  [9]\n",
            "Label:  9\n"
          ]
        },
        {
          "output_type": "display_data",
          "data": {
            "text/plain": [
              "<Figure size 640x480 with 1 Axes>"
            ],
            "image/png": "[encoded data removed]"
          },
          "metadata": {}
        },
        {
          "output_type": "stream",
          "name": "stdout",
          "text": [
            "Prediction:  [0]\n",
            "Label:  6\n"
          ]
        },
        {
          "output_type": "display_data",
          "data": {
            "text/plain": [
              "<Figure size 640x480 with 1 Axes>"
            ],
            "image/png": "[encoded data removed]"
          },
          "metadata": {}
        }
      ]
    },
    {
      "cell_type": "code",
      "source": [
        "test_predictions = make_predictions(X_test, W1, b1, W2, b2, W3, b3, W4, b4)\n",
        "get_accuracy(test_predictions, Y_test)"
      ],
      "metadata": {
        "colab": {
          "base_uri": "https://localhost:8080/"
        },
        "id": "2Ao2LbvzVjHx",
        "outputId": "7a938493-a7c2-4f1b-ac38-8a912be5c253"
      },
      "execution_count": null,
      "outputs": [
        {
          "output_type": "stream",
          "name": "stdout",
          "text": [
            "[4 6 1 0 0 3 2 1 7 6 0 0 7 0 1 6 0 1 0 7 2 0 2 6 0 0 1 0 3 9 1 9 0 7 1 9 7\n",
            " 1 9 2 3 6 0 6 1 9 6 6 1 9 2 1 9 6 6 0 1 0 9 1 0 9 1 6 4 1 6 0 9 6 4 1 0 9\n",
            " 2 1 7 1 1 3 6 0 6 7 1 1 0 1 1 7 9 1 1 1 1 9 6 2 2 0 6 0 0 1 9 0 9 0 3 6 1\n",
            " 0 6 3 7 0 0 3 1 6 9 9 1 1 0 0 0 6 9 6 1 0 0 0 6 6 9 3 1 0 0 0 0 1 0 1 1 1\n",
            " 3 6 6 3 0 7 4 0 2 6 6 7 6 9 0 1 6 0 1 0 6 9 9 9 6 0 2 0 3 1 9 0 3 1 1 4 6\n",
            " 4 7 1 3 0 0 0 0 0 2 6 2 0 9 1 0 9 3 0 9 1 9 1 1 0 6 0 0 0 1 1 0 1 0 0 3 0\n",
            " 0 2 0 0 6 9 6 1 6 6 6 9 0 1 6 9 6 7 1 7 1 1 1 2 0 3 9 0 0 4 0 1 6 1 4 9 0\n",
            " 0 0 6 0 0 1 0 3 9 7 9 0 0 7 0 3 0 2 1 7 9 1 6 1 1 9 1 0 4 6 6 1 0 7 1 3 1\n",
            " 4 0 4 9 1 1 6 0 1 1 3 1 4 9 0 1 0 6 1 2 6 7 6 0 0 1 1 1 9 7 0 4 3 0 9 0 6\n",
            " 2 1 1 1 0 9 6 0 4 0 6 1 1 0 2 3 1 6 0 9 6 3 6 0 7 1 6 0 1 0 3 9 6 1 1 0 0\n",
            " 0 6 1 3 9 4 0 0 4 1 4 0 6 0 1 1 3 0 0 1 0 0 6 1 6 7 1 7 1 1 4 1 6 7 0 6 0\n",
            " 0 0 6 6 9 9 1 0 0 3 4 9 1 1 9 0 0 1 7 6 1 7 0 6 6 1 1 9 0 1 9 9 7 1 0 6 4\n",
            " 6 1 1 0 1 0 1 6 9 7 0 9 2 1 6 1 0 1 1 2 1 1 9 4 9 1 3 6 0 0 6 1 3 2 0 2 0\n",
            " 0 0 1 4 0 7 3 1 6 0 9 4 6 0 9 0 1 3 6 3 7 9 0 1 1 1 7 6 1 0 6 6 0 1 0 9 1\n",
            " 7 0 0 6 4 1 2 1 9 3 1 9 6 0 6 1 6 6 0 0 0 0 1 7 1 7 0 1 9 9 1 9 6 6 6 0 1\n",
            " 1 1 0 3 0 1 2 1 6 7 2 0 1 1 6 0 1 4 1 9 0 0 1 1 9 0 1 6 0 1 6 0 0 3 6 0 9\n",
            " 0 3 3 1 0 9 4 9 7 1 4 1 0 6 9 4 7 0 1 9 1 1 6 9 1 1 0 1 0 6 1 1 1 9 0 0 1\n",
            " 1 3 6 0 9 0 9 4 1 6 0 6 1 6 3 0 0 1 0 7 1 9 6 1 7 1 0 1 2 1 6 7 0 4 1 1 7\n",
            " 0 6 6 0 0 0 0 1 1 6 7 0 1 1 1 1 1 6 7 1 1 1 0 0 1 0 4 3 3 4 4 6 1 1 0 3 0\n",
            " 1 0 1 7 6 9 1 0 0 1 0 1 1 9 1 2 1 6 9 1 1 1 1 0 9 0 1 1 9 4 0 1 0 1 1 1 0\n",
            " 6 6 3 6 1 1 9 6 1 7 0 0 1 4 0 2 0 7 1 1 1 6 1 0 3 1 1 1 2 6 4 1 9 9 0 2 3\n",
            " 9 9 6 1 9 1 1 1 1 6 0 1 4 9 3 2 7 1 0 0 6 6 2 0 9 6 1 2 6 9 3 0 2 6 9 0 7\n",
            " 6 0 9 1 2 1 4 9 9 0 6 0 6 6 7 1 7 6 1 3 0 3 1 2 1 3 6 1 6 1 1 1 0 1 0 3 6\n",
            " 1 9 6 4 1 0 9 6 0 1 7 0 9 9 3 6 1 0 1 6 6 6 3 6 2 1 4 0 1 9 1 6 6 1 1 0 4\n",
            " 1 9 0 0 7 1 6 6 0 1 0 6 1 0 1 7 1 1 2 1 3 6 1 1 9 0 1 1 0 2 1 1 2 0 1 1 6\n",
            " 6 1 9 6 7 0 1 0 1 1 7 6 1 1 9 3 9 0 0 6 1 0 6 1 9 0 4 0 0 6 3 6 1 6 4 6 6\n",
            " 6 1 1 1 0 0 0 6 9 0 0 1 6 6 0 6 7 0 6 0 1 7 1 7 3 3 3 1 9 7 1 3 4 0 9 9 0\n",
            " 6] [7 3 7 6 2 6 9 7 3 4 6 0 9 2 1 8 0 1 5 4 2 0 4 5 0 6 1 6 8 3 7 9 6 3 7 9 7\n",
            " 7 9 3 8 2 2 5 7 4 4 8 8 8 9 1 6 8 0 0 7 6 2 1 2 9 1 5 2 8 0 2 3 8 2 8 2 8\n",
            " 6 1 3 3 1 4 3 6 2 3 3 1 2 7 7 4 5 7 7 1 7 8 5 4 8 0 0 0 0 1 8 4 7 8 9 4 7\n",
            " 6 2 0 3 4 2 4 1 5 4 9 1 3 0 6 4 4 9 6 1 0 0 6 2 4 6 9 7 6 6 2 6 7 0 7 1 3\n",
            " 2 2 8 3 2 7 9 6 4 2 4 2 0 2 6 1 0 0 1 6 6 9 2 4 9 4 5 8 3 1 2 4 3 7 7 0 3\n",
            " 2 3 1 5 0 0 2 6 6 8 0 8 2 3 1 0 9 4 2 4 1 2 7 7 2 4 0 8 2 9 7 9 1 5 0 3 8\n",
            " 2 5 2 4 4 9 8 7 4 5 4 5 6 1 6 8 5 7 3 7 1 3 3 4 6 9 4 0 6 9 2 7 0 3 9 8 0\n",
            " 0 6 4 8 6 1 0 4 4 7 2 2 0 3 3 4 5 4 1 3 9 1 2 1 1 4 7 6 8 6 2 1 5 3 1 9 3\n",
            " 8 0 3 4 1 3 3 8 7 9 2 1 8 3 6 7 6 8 4 2 5 8 9 0 6 7 1 7 5 3 6 3 3 0 2 2 5\n",
            " 8 1 1 3 8 9 6 0 9 0 5 7 1 4 8 9 1 8 0 9 0 4 8 0 2 1 5 6 3 6 8 3 0 1 1 5 2\n",
            " 6 2 1 9 9 9 2 0 7 3 2 8 0 4 7 7 9 9 6 1 0 6 8 9 8 2 7 1 1 5 9 1 4 5 6 4 0\n",
            " 6 5 2 2 5 4 1 0 2 9 8 3 1 1 5 9 0 1 7 5 1 7 6 0 8 1 1 3 2 7 2 5 7 7 0 2 5\n",
            " 8 8 5 8 3 0 1 4 5 3 6 4 2 9 5 3 6 7 7 5 7 7 2 3 5 1 5 2 8 0 5 1 9 3 0 4 3\n",
            " 0 6 3 4 2 9 9 7 0 0 9 4 2 0 4 4 1 3 5 3 3 5 6 7 7 3 8 2 7 6 9 5 6 1 9 5 9\n",
            " 7 6 0 8 9 7 3 7 2 4 7 3 5 5 2 8 5 8 0 6 2 4 1 3 1 7 6 3 4 4 7 9 2 8 4 2 1\n",
            " 7 7 8 7 6 1 9 1 4 4 9 8 3 1 0 0 1 3 1 4 0 6 7 8 8 6 1 4 6 7 5 0 0 3 0 0 6\n",
            " 8 3 2 1 5 9 8 3 3 7 4 3 6 8 3 9 3 6 9 5 3 1 8 2 8 1 0 2 6 2 1 7 3 6 6 8 7\n",
            " 1 9 0 6 4 0 8 2 3 4 6 5 1 0 7 0 0 1 0 1 9 4 5 7 9 1 6 3 4 3 4 3 5 5 7 1 7\n",
            " 0 6 3 6 6 0 2 1 1 4 3 6 7 7 3 1 1 5 8 7 7 7 0 8 7 0 0 9 9 4 4 8 1 9 4 8 6\n",
            " 7 0 7 9 2 8 7 6 0 3 0 1 3 8 1 4 1 8 9 1 1 9 1 2 3 2 7 7 5 8 0 9 6 3 7 1 6\n",
            " 2 3 3 5 7 4 3 2 7 6 6 4 7 8 6 5 5 3 7 1 9 4 9 2 9 7 7 9 8 5 4 1 6 8 6 4 4\n",
            " 5 5 5 1 3 3 7 9 1 8 9 7 4 7 3 2 3 1 5 0 6 6 2 2 3 0 1 6 3 4 5 0 0 8 5 2 1\n",
            " 2 6 4 3 5 1 3 5 7 8 5 0 5 2 8 7 3 9 3 9 6 7 1 2 7 3 8 7 8 5 7 7 2 1 5 9 9\n",
            " 7 9 5 5 1 0 7 2 6 5 3 0 8 5 4 5 1 0 1 8 2 6 7 9 4 7 9 2 1 3 1 2 8 7 1 2 9\n",
            " 1 5 0 2 3 3 4 8 0 8 4 5 1 0 4 9 1 1 5 1 2 8 1 7 9 0 7 3 0 9 8 1 5 8 3 1 4\n",
            " 5 7 3 4 5 6 3 0 1 3 9 2 9 1 9 5 8 2 6 4 1 0 5 1 0 5 8 2 0 5 3 8 1 5 4 6 5\n",
            " 0 1 7 7 2 2 8 0 8 6 6 7 4 8 6 3 8 0 5 6 4 7 7 3 3 9 3 1 8 8 1 3 3 0 5 8 6\n",
            " 8]\n"
          ]
        },
        {
          "output_type": "execute_result",
          "data": {
            "text/plain": [
              "0.268"
            ]
          },
          "metadata": {},
          "execution_count": 147
        }
      ]
    },
    {
      "cell_type": "markdown",
      "source": [
        "# Kaiming Initialization"
      ],
      "metadata": {
        "id": "N3HsxstYVsed"
      }
    },
    {
      "cell_type": "code",
      "source": [
        "def init_params_kaiming():\n",
        "    def kaiming_initializer(n_in):\n",
        "        return np.random.normal(0, np.sqrt(2 / n_in))\n",
        "\n",
        "    W1 = kaiming_initializer(784) * np.random.randn(10, 784)\n",
        "    b1 = np.zeros((10, 1))\n",
        "\n",
        "    W2 = kaiming_initializer(10) * np.random.randn(15, 10)\n",
        "    b2 = np.zeros((15, 1))\n",
        "\n",
        "    W3 = kaiming_initializer(15) * np.random.randn(12, 15)\n",
        "    b3 = np.zeros((12, 1))\n",
        "\n",
        "    W4 = kaiming_initializer(12) * np.random.randn(10, 12)\n",
        "    b4 = np.zeros((10, 1))\n",
        "\n",
        "    return W1, b1, W2, b2, W3, b3, W4, b4"
      ],
      "metadata": {
        "id": "Nq7J6qYOVxME"
      },
      "execution_count": null,
      "outputs": []
    },
    {
      "cell_type": "code",
      "source": [
        "def gradient_descent(X, Y, alpha, iterations):\n",
        "    W1, b1, W2, b2, W3, b3, W4, b4 = init_params_kaiming()\n",
        "    accuracy_scores = []\n",
        "    for i in range(iterations):\n",
        "        Z1, A1, Z2, A2, Z3, A3, Z4, A4 = forward_prop(W1, b1, W2, b2,W3,b3,W4,b4, X)\n",
        "        dW1, db1, dW2, db2, dW3, db3, dW4,db4 = backward_prop(Z1, A1, Z2, A2, Z3, A3, Z4,A4, W1, W2,W3,W4, X, Y)\n",
        "        W1, b1, W2, b2, W3, b3, W4, b4 = update_params(W1, b1, W2, b2,W3,b3,W4,b4, dW1, db1, dW2, db2,dW3,db3,dW4,db4, alpha)\n",
        "        if i % 10 == 0:\n",
        "            print(\"Iteration: \", i)\n",
        "            predictions = get_predictions(A4)\n",
        "            accuracy = get_accuracy(predictions, Y)\n",
        "            print(accuracy)\n",
        "            accuracy_scores.append((i, accuracy))\n",
        "\n",
        "    # Convert accuracy_scores to separate lists for plotting\n",
        "    iterations, accuracies = zip(*accuracy_scores)\n",
        "\n",
        "    # Plotting accuracy vs iterations\n",
        "    plt.plot(iterations, accuracies)\n",
        "    plt.xlabel('Iterations')\n",
        "    plt.ylabel('Accuracy')\n",
        "    plt.title('Accuracy vs Iterations')\n",
        "    plt.show()\n",
        "\n",
        "    return W1, b1, W2, b2, W3,b3,W4,b4"
      ],
      "metadata": {
        "id": "EVxy19U5V_zI"
      },
      "execution_count": null,
      "outputs": []
    },
    {
      "cell_type": "code",
      "source": [
        "W1, b1, W2, b2, W3,b3,W4,b4 = gradient_descent(X_train, Y_train, 0.10, 500)"
      ],
      "metadata": {
        "colab": {
          "base_uri": "https://localhost:8080/",
          "height": 1000
        },
        "id": "dDblMxhWWAx4",
        "outputId": "fd450656-19e0-4353-c852-9252d735f928"
      },
      "execution_count": null,
      "outputs": [
        {
          "output_type": "stream",
          "name": "stdout",
          "text": [
            "Iteration:  0\n",
            "[6 6 6 ... 6 3 6] [7 9 2 ... 4 0 8]\n",
            "0.09604878048780488\n",
            "Iteration:  10\n",
            "[7 7 7 ... 7 6 7] [7 9 2 ... 4 0 8]\n",
            "0.16963414634146343\n",
            "Iteration:  20\n",
            "[7 9 5 ... 7 0 1] [7 9 2 ... 4 0 8]\n",
            "0.3798048780487805\n",
            "Iteration:  30\n",
            "[7 9 5 ... 9 0 1] [7 9 2 ... 4 0 8]\n",
            "0.43409756097560975\n",
            "Iteration:  40\n",
            "[9 8 5 ... 4 0 4] [7 9 2 ... 4 0 8]\n",
            "0.482\n",
            "Iteration:  50\n",
            "[9 8 5 ... 4 0 4] [7 9 2 ... 4 0 8]\n",
            "0.5221219512195122\n",
            "Iteration:  60\n",
            "[9 8 5 ... 4 0 8] [7 9 2 ... 4 0 8]\n",
            "0.5645853658536585\n",
            "Iteration:  70\n",
            "[7 9 2 ... 4 0 8] [7 9 2 ... 4 0 8]\n",
            "0.6065121951219512\n",
            "Iteration:  80\n",
            "[7 9 2 ... 4 0 8] [7 9 2 ... 4 0 8]\n",
            "0.6312926829268293\n",
            "Iteration:  90\n",
            "[7 9 2 ... 4 0 8] [7 9 2 ... 4 0 8]\n",
            "0.6479268292682927\n",
            "Iteration:  100\n",
            "[7 9 2 ... 4 0 8] [7 9 2 ... 4 0 8]\n",
            "0.6606585365853659\n",
            "Iteration:  110\n",
            "[7 9 2 ... 4 0 8] [7 9 2 ... 4 0 8]\n",
            "0.6739756097560976\n",
            "Iteration:  120\n",
            "[7 9 2 ... 4 0 8] [7 9 2 ... 4 0 8]\n",
            "0.6864878048780488\n",
            "Iteration:  130\n",
            "[7 9 2 ... 4 0 8] [7 9 2 ... 4 0 8]\n",
            "0.6998292682926829\n",
            "Iteration:  140\n",
            "[7 9 2 ... 4 0 3] [7 9 2 ... 4 0 8]\n",
            "0.7120487804878048\n",
            "Iteration:  150\n",
            "[7 9 2 ... 4 0 3] [7 9 2 ... 4 0 8]\n",
            "0.7243414634146341\n",
            "Iteration:  160\n",
            "[7 9 2 ... 4 0 3] [7 9 2 ... 4 0 8]\n",
            "0.7364634146341463\n",
            "Iteration:  170\n",
            "[7 9 2 ... 4 0 3] [7 9 2 ... 4 0 8]\n",
            "0.7475609756097561\n",
            "Iteration:  180\n",
            "[7 9 2 ... 4 0 3] [7 9 2 ... 4 0 8]\n",
            "0.7579024390243903\n",
            "Iteration:  190\n",
            "[7 9 2 ... 4 0 3] [7 9 2 ... 4 0 8]\n",
            "0.7667073170731707\n",
            "Iteration:  200\n",
            "[7 9 2 ... 4 0 3] [7 9 2 ... 4 0 8]\n",
            "0.776609756097561\n",
            "Iteration:  210\n",
            "[7 9 2 ... 4 0 3] [7 9 2 ... 4 0 8]\n",
            "0.7845121951219513\n",
            "Iteration:  220\n",
            "[7 9 2 ... 4 0 8] [7 9 2 ... 4 0 8]\n",
            "0.791219512195122\n",
            "Iteration:  230\n",
            "[7 9 2 ... 4 0 8] [7 9 2 ... 4 0 8]\n",
            "0.7978048780487805\n",
            "Iteration:  240\n",
            "[7 9 2 ... 4 0 8] [7 9 2 ... 4 0 8]\n",
            "0.8040487804878049\n",
            "Iteration:  250\n",
            "[7 9 2 ... 4 0 8] [7 9 2 ... 4 0 8]\n",
            "0.8104146341463415\n",
            "Iteration:  260\n",
            "[7 9 2 ... 4 0 8] [7 9 2 ... 4 0 8]\n",
            "0.8158048780487804\n",
            "Iteration:  270\n",
            "[7 9 2 ... 4 0 8] [7 9 2 ... 4 0 8]\n",
            "0.8214390243902439\n",
            "Iteration:  280\n",
            "[7 9 2 ... 4 0 8] [7 9 2 ... 4 0 8]\n",
            "0.8261219512195122\n",
            "Iteration:  290\n",
            "[7 9 2 ... 4 0 8] [7 9 2 ... 4 0 8]\n",
            "0.8306585365853658\n",
            "Iteration:  300\n",
            "[7 9 2 ... 4 0 8] [7 9 2 ... 4 0 8]\n",
            "0.8346341463414634\n",
            "Iteration:  310\n",
            "[7 9 2 ... 4 0 8] [7 9 2 ... 4 0 8]\n",
            "0.8386341463414634\n",
            "Iteration:  320\n",
            "[7 9 2 ... 4 0 8] [7 9 2 ... 4 0 8]\n",
            "0.8418536585365853\n",
            "Iteration:  330\n",
            "[7 9 2 ... 4 0 8] [7 9 2 ... 4 0 8]\n",
            "0.845780487804878\n",
            "Iteration:  340\n",
            "[7 9 2 ... 4 0 8] [7 9 2 ... 4 0 8]\n",
            "0.8490243902439024\n",
            "Iteration:  350\n",
            "[7 9 2 ... 4 0 8] [7 9 2 ... 4 0 8]\n",
            "0.8520975609756097\n",
            "Iteration:  360\n",
            "[7 9 2 ... 4 0 8] [7 9 2 ... 4 0 8]\n",
            "0.8546829268292683\n",
            "Iteration:  370\n",
            "[7 9 2 ... 4 0 3] [7 9 2 ... 4 0 8]\n",
            "0.8567560975609756\n",
            "Iteration:  380\n",
            "[7 9 2 ... 4 0 3] [7 9 2 ... 4 0 8]\n",
            "0.8591707317073171\n",
            "Iteration:  390\n",
            "[7 9 2 ... 4 0 3] [7 9 2 ... 4 0 8]\n",
            "0.8614390243902439\n",
            "Iteration:  400\n",
            "[7 9 2 ... 4 0 3] [7 9 2 ... 4 0 8]\n",
            "0.863609756097561\n",
            "Iteration:  410\n",
            "[7 9 2 ... 4 0 3] [7 9 2 ... 4 0 8]\n",
            "0.8651463414634146\n",
            "Iteration:  420\n",
            "[7 9 2 ... 4 0 3] [7 9 2 ... 4 0 8]\n",
            "0.8669024390243902\n",
            "Iteration:  430\n",
            "[7 9 2 ... 4 0 3] [7 9 2 ... 4 0 8]\n",
            "0.8687317073170732\n",
            "Iteration:  440\n",
            "[7 9 2 ... 4 0 3] [7 9 2 ... 4 0 8]\n",
            "0.8703414634146341\n",
            "Iteration:  450\n",
            "[7 9 2 ... 4 0 3] [7 9 2 ... 4 0 8]\n",
            "0.8717073170731707\n",
            "Iteration:  460\n",
            "[7 9 2 ... 4 0 3] [7 9 2 ... 4 0 8]\n",
            "0.873\n",
            "Iteration:  470\n",
            "[7 9 2 ... 4 0 3] [7 9 2 ... 4 0 8]\n",
            "0.8740487804878049\n",
            "Iteration:  480\n",
            "[7 9 2 ... 4 0 3] [7 9 2 ... 4 0 8]\n",
            "0.8749756097560976\n",
            "Iteration:  490\n",
            "[7 9 2 ... 4 0 3] [7 9 2 ... 4 0 8]\n",
            "0.8764146341463415\n"
          ]
        },
        {
          "output_type": "display_data",
          "data": {
            "text/plain": [
              "<Figure size 640x480 with 1 Axes>"
            ],
            "image/png": "[encoded data removed]"
          },
          "metadata": {}
        }
      ]
    },
    {
      "cell_type": "code",
      "source": [
        "test_prediction(0, W1, b1, W2, b2,W3,b3,W4,b4)\n",
        "test_prediction(1, W1, b1, W2, b2,W3,b3,W4,b4)\n",
        "test_prediction(2, W1, b1, W2, b2,W3,b3,W4,b4)\n",
        "test_prediction(3, W1, b1, W2, b2,W3,b3,W4,b4)"
      ],
      "metadata": {
        "colab": {
          "base_uri": "https://localhost:8080/",
          "height": 1000
        },
        "id": "_yFSYzhdWDeV",
        "outputId": "18d5eb80-e2e0-4679-dfae-8f55f458cb8b"
      },
      "execution_count": null,
      "outputs": [
        {
          "output_type": "stream",
          "name": "stdout",
          "text": [
            "Prediction:  [7]\n",
            "Label:  7\n"
          ]
        },
        {
          "output_type": "display_data",
          "data": {
            "text/plain": [
              "<Figure size 640x480 with 1 Axes>"
            ],
            "image/png": "[encoded data removed]"
          },
          "metadata": {}
        },
        {
          "output_type": "stream",
          "name": "stdout",
          "text": [
            "Prediction:  [9]\n",
            "Label:  9\n"
          ]
        },
        {
          "output_type": "display_data",
          "data": {
            "text/plain": [
              "<Figure size 640x480 with 1 Axes>"
            ],
            "image/png": "[encoded data removed]"
          },
          "metadata": {}
        },
        {
          "output_type": "stream",
          "name": "stdout",
          "text": [
            "Prediction:  [2]\n",
            "Label:  2\n"
          ]
        },
        {
          "output_type": "display_data",
          "data": {
            "text/plain": [
              "<Figure size 640x480 with 1 Axes>"
            ],
            "image/png": "[encoded data removed]"
          },
          "metadata": {}
        },
        {
          "output_type": "stream",
          "name": "stdout",
          "text": [
            "Prediction:  [2]\n",
            "Label:  2\n"
          ]
        },
        {
          "output_type": "display_data",
          "data": {
            "text/plain": [
              "<Figure size 640x480 with 1 Axes>"
            ],
            "image/png": "[encoded data removed]"
          },
          "metadata": {}
        }
      ]
    },
    {
      "cell_type": "code",
      "source": [
        "test_predictions = make_predictions(X_test, W1, b1, W2, b2, W3, b3, W4, b4)\n",
        "get_accuracy(test_predictions, Y_test)"
      ],
      "metadata": {
        "colab": {
          "base_uri": "https://localhost:8080/"
        },
        "id": "Nn3VC3VXWF-H",
        "outputId": "482a2030-cae4-4645-8ea1-db08332a0ecb"
      },
      "execution_count": null,
      "outputs": [
        {
          "output_type": "stream",
          "name": "stdout",
          "text": [
            "[9 9 8 6 8 0 0 0 4 1 7 8 8 3 0 3 9 9 5 3 0 7 7 5 9 6 6 7 4 4 0 3 6 1 7 9 5\n",
            " 1 5 0 4 4 6 1 3 6 4 9 2 5 6 2 2 5 6 7 0 5 1 4 2 1 1 3 2 5 3 5 8 6 7 8 4 6\n",
            " 4 3 6 1 4 0 2 5 8 6 5 5 9 9 1 4 1 4 8 2 1 0 0 6 4 8 8 4 0 3 3 0 7 8 8 0 1\n",
            " 5 8 9 8 1 3 5 5 5 1 4 5 2 6 3 2 7 3 2 1 4 6 8 8 1 8 7 6 4 7 9 1 4 6 1 8 8\n",
            " 1 4 5 5 0 7 6 9 1 7 4 4 9 6 9 8 1 7 9 7 6 1 7 4 9 9 8 2 1 4 8 1 0 8 2 5 3\n",
            " 9 3 1 4 3 0 5 5 5 9 2 3 3 6 0 3 7 7 6 5 3 1 4 5 1 8 0 9 1 4 9 1 7 2 0 4 9\n",
            " 7 8 2 1 2 1 6 7 0 6 0 9 8 2 2 0 5 0 8 1 0 1 9 7 4 4 0 6 7 4 4 8 0 0 5 7 9\n",
            " 7 4 7 9 7 9 1 2 4 4 2 8 2 0 5 1 1 9 8 2 2 6 4 0 7 2 7 1 8 5 4 8 5 6 8 8 2\n",
            " 7 2 3 4 6 5 9 4 0 8 9 2 0 3 4 8 3 0 9 2 2 6 8 6 8 6 4 1 5 6 0 2 5 6 7 9 9\n",
            " 8 2 6 6 5 0 3 2 1 8 1 6 8 5 9 0 3 4 5 3 4 2 9 7 3 1 3 2 2 2 7 1 0 2 5 4 9\n",
            " 1 1 4 0 8 1 8 1 2 3 4 5 1 6 1 7 7 1 4 7 7 6 6 3 2 9 6 3 5 7 3 3 2 2 9 8 8\n",
            " 2 4 3 1 6 6 1 0 1 9 5 6 2 2 4 6 7 1 8 1 5 3 8 8 0 7 9 1 7 4 0 4 1 6 4 3 6\n",
            " 7 5 6 6 6 5 6 4 0 2 2 0 5 7 0 9 1 7 4 0 6 6 6 2 0 4 9 6 4 0 3 6 1 9 3 8 5\n",
            " 4 3 8 2 8 6 3 6 0 9 9 4 1 7 8 6 8 1 9 1 1 9 6 9 5 6 7 8 3 0 5 0 5 9 2 5 9\n",
            " 6 8 3 7 5 2 1 5 3 2 5 2 1 6 0 4 2 8 7 8 7 3 7 3 7 2 4 1 2 7 6 2 7 4 4 4 1\n",
            " 8 4 8 9 1 4 7 2 0 2 8 7 2 7 4 1 3 5 4 5 4 7 7 5 3 9 6 8 1 3 2 5 1 0 0 8 4\n",
            " 5 9 0 8 4 4 7 7 9 9 7 4 5 5 8 4 5 6 1 6 2 0 6 7 2 9 9 4 5 8 4 3 2 5 2 5 8\n",
            " 4 0 8 3 3 4 0 2 1 5 2 2 2 2 4 2 9 3 2 7 9 8 4 1 4 1 1 8 2 3 6 1 6 4 8 0 8\n",
            " 5 9 7 5 6 1 1 5 0 8 7 0 8 8 3 1 2 5 5 1 8 9 4 6 2 0 3 2 3 2 8 6 7 3 8 1 1\n",
            " 4 3 7 3 8 1 8 1 6 9 8 1 6 1 8 8 9 7 4 1 3 4 9 3 7 0 7 6 2 0 8 7 1 2 7 1 9\n",
            " 0 5 7 1 0 3 5 4 5 7 5 2 0 7 7 8 1 0 8 6 8 9 9 7 9 0 7 0 4 8 0 2 1 5 7 9 5\n",
            " 9 6 3 0 4 1 0 0 4 5 7 2 7 2 8 8 5 1 1 5 6 9 8 2 2 0 5 6 8 0 5 9 3 4 7 5 3\n",
            " 9 7 0 1 6 8 2 6 7 6 5 7 1 4 7 3 1 6 2 8 0 0 2 6 6 8 2 1 1 4 0 3 1 8 2 9 3\n",
            " 6 7 7 8 6 0 6 9 9 9 3 6 9 0 4 2 2 5 6 9 0 7 0 8 0 4 2 0 3 8 9 5 6 6 3 6 4\n",
            " 3 1 6 5 8 2 8 2 0 0 5 9 4 7 6 7 7 9 3 2 4 9 9 9 0 3 7 9 6 8 9 8 8 8 2 1 5\n",
            " 0 7 9 2 2 3 1 1 4 1 5 4 5 0 9 4 6 0 3 9 9 0 7 6 6 2 4 2 3 0 4 0 8 8 3 5 7\n",
            " 9 7 5 8 4 6 1 0 1 8 0 7 8 7 7 8 0 0 9 9 1 7 5 3 3 9 1 1 1 6 0 2 0 2 9 8 1\n",
            " 8] [9 9 8 6 8 0 0 0 4 1 7 8 8 3 0 8 7 9 5 3 0 7 7 5 9 6 6 7 2 4 0 9 6 4 7 9 0\n",
            " 2 5 9 9 4 6 1 3 6 4 7 2 5 6 2 8 5 6 7 3 8 1 4 2 1 1 3 2 3 3 5 8 6 7 8 4 6\n",
            " 4 3 6 1 4 0 2 8 8 6 5 5 9 9 1 4 1 4 8 2 1 2 0 6 4 9 8 4 0 3 3 0 9 8 8 6 1\n",
            " 5 8 4 5 1 3 5 8 5 1 2 5 2 6 3 2 7 3 2 1 4 6 8 8 1 8 7 6 4 9 9 8 5 6 1 8 8\n",
            " 1 4 5 5 0 7 6 9 1 7 4 4 9 8 9 1 1 7 9 9 6 1 7 4 9 7 8 2 1 4 9 1 0 6 2 5 3\n",
            " 9 3 1 4 9 2 5 5 5 7 7 3 5 6 0 2 7 8 6 5 3 1 4 5 1 8 0 7 1 4 9 1 7 2 0 9 9\n",
            " 7 8 2 1 2 1 6 7 0 6 0 9 8 2 2 0 5 0 8 1 0 4 8 7 4 9 0 6 7 4 4 8 0 8 5 7 9\n",
            " 7 4 7 9 7 9 1 6 4 4 2 2 2 0 5 1 1 9 8 2 2 6 4 0 7 2 9 1 8 5 4 8 3 6 8 8 2\n",
            " 7 3 3 4 6 5 7 4 0 8 7 2 0 8 4 8 3 0 9 2 2 6 8 6 8 6 4 1 5 6 0 2 5 6 9 9 9\n",
            " 8 2 6 5 1 0 3 2 1 8 1 6 8 3 9 0 3 4 6 3 4 2 4 7 3 1 3 2 2 2 7 1 0 2 5 4 9\n",
            " 1 1 4 0 8 1 2 1 2 3 4 5 1 6 1 7 3 1 4 7 7 6 2 3 2 9 6 3 5 7 2 8 2 2 9 8 8\n",
            " 2 4 3 1 6 6 1 0 1 1 5 6 2 2 4 6 7 1 8 1 6 3 8 8 0 7 9 1 7 2 0 4 1 6 4 8 6\n",
            " 7 5 6 6 4 5 6 4 0 2 2 0 5 1 0 9 1 9 4 0 6 6 6 2 0 4 9 6 4 0 3 6 1 9 3 8 5\n",
            " 4 3 5 2 8 6 3 4 0 9 9 4 1 7 2 6 8 1 9 1 1 9 6 9 5 6 7 8 0 0 5 6 5 4 2 0 9\n",
            " 6 8 5 7 5 2 1 5 3 2 5 2 1 9 5 4 2 8 3 8 7 3 7 3 7 2 4 1 2 7 6 2 7 4 4 4 1\n",
            " 1 4 8 9 1 4 7 2 0 3 5 7 2 9 4 1 3 5 4 5 4 7 7 5 3 9 6 8 1 3 3 5 1 0 2 8 4\n",
            " 5 9 0 9 4 4 7 7 9 9 7 4 3 5 8 4 5 6 1 6 2 0 6 7 2 9 9 4 5 5 4 3 2 5 2 7 8\n",
            " 4 0 8 3 3 4 0 2 1 8 2 2 1 2 4 2 9 3 2 7 9 8 6 1 4 1 1 8 2 3 6 1 8 4 8 0 8\n",
            " 4 9 7 5 6 1 1 5 0 8 7 0 8 8 3 8 2 3 5 1 8 4 4 6 2 0 3 2 8 2 8 6 7 3 8 1 1\n",
            " 4 3 7 3 8 1 8 1 6 9 8 1 6 1 5 8 9 7 4 1 3 4 9 2 1 0 7 6 2 0 5 7 1 2 7 1 9\n",
            " 0 5 7 1 5 3 5 4 5 7 5 2 0 7 9 8 1 0 8 6 8 9 9 7 9 0 7 5 4 8 0 2 1 8 7 9 5\n",
            " 9 2 3 5 4 1 0 0 4 5 7 2 9 2 8 8 5 1 1 5 6 9 8 2 2 0 8 6 8 0 5 9 3 4 7 5 3\n",
            " 9 7 0 8 6 2 2 6 7 6 5 7 1 4 7 3 1 6 2 8 0 0 2 6 6 8 2 1 1 4 0 3 1 8 2 9 3\n",
            " 6 7 2 8 6 6 6 9 9 9 3 6 4 0 4 2 3 5 3 9 0 8 0 7 0 4 2 6 5 8 9 5 2 4 3 6 6\n",
            " 3 1 6 5 8 2 8 2 9 0 5 9 4 7 6 7 7 9 3 2 4 9 9 9 0 3 7 9 6 8 9 8 8 8 2 1 5\n",
            " 0 7 9 2 2 0 1 1 4 1 3 7 5 0 9 4 6 0 3 9 9 0 7 6 6 3 4 2 3 0 4 0 8 8 3 5 7\n",
            " 9 7 0 9 4 6 1 0 1 8 0 7 8 8 7 2 0 0 9 4 1 7 5 3 3 9 1 1 1 6 0 2 0 2 7 8 1\n",
            " 8]\n"
          ]
        },
        {
          "output_type": "execute_result",
          "data": {
            "text/plain": [
              "0.862"
            ]
          },
          "metadata": {},
          "execution_count": 174
        }
      ]
    },
    {
      "cell_type": "markdown",
      "source": [
        "# Dropout layer"
      ],
      "metadata": {
        "id": "hEgy4mLjdlmD"
      }
    },
    {
      "cell_type": "code",
      "source": [
        "def init_params():\n",
        "    W1 = np.random.rand(10, 784) - 0.5\n",
        "    b1 = np.random.rand(10, 1) - 0.5\n",
        "    W2 = np.random.rand(10, 10) - 0.5\n",
        "    b2 = np.random.rand(10, 1) - 0.5\n",
        "    return W1, b1, W2, b2"
      ],
      "metadata": {
        "id": "sUbieFWZdore"
      },
      "execution_count": null,
      "outputs": []
    },
    {
      "cell_type": "code",
      "source": [
        "def ReLU(Z):\n",
        "    return np.maximum(Z, 0)"
      ],
      "metadata": {
        "id": "kXOwSjz7dx-J"
      },
      "execution_count": null,
      "outputs": []
    },
    {
      "cell_type": "code",
      "source": [
        "def ReLU_deriv(Z):\n",
        "    return Z > 0"
      ],
      "metadata": {
        "id": "PFOqtOcSdz-H"
      },
      "execution_count": null,
      "outputs": []
    },
    {
      "cell_type": "code",
      "source": [
        "def softmax(Z):\n",
        "    A = np.exp(Z) / sum(np.exp(Z))\n",
        "    return A"
      ],
      "metadata": {
        "id": "AtC-W-c_d1fj"
      },
      "execution_count": null,
      "outputs": []
    },
    {
      "cell_type": "code",
      "source": [
        "def forward_prop(W1, b1, W2, b2, X):\n",
        "    Z1 = W1.dot(X) + b1\n",
        "    A1 = ReLU(Z1)\n",
        "    Z2 = W2.dot(A1) + b2\n",
        "    A2 = softmax(Z2)\n",
        "    return Z1, A1, Z2, A2"
      ],
      "metadata": {
        "id": "oqK75phcd3JV"
      },
      "execution_count": null,
      "outputs": []
    },
    {
      "cell_type": "code",
      "source": [
        "def one_hot(Y):\n",
        "    one_hot_Y = np.zeros((Y.size, Y.max() + 1))\n",
        "    one_hot_Y[np.arange(Y.size), Y] = 1\n",
        "    one_hot_Y = one_hot_Y.T\n",
        "    return one_hot_Y"
      ],
      "metadata": {
        "id": "keL9A52jd4fJ"
      },
      "execution_count": null,
      "outputs": []
    },
    {
      "cell_type": "code",
      "source": [
        "def backward_prop(Z1, A1, Z2, A2, W1, W2, X, Y):\n",
        "    one_hot_Y = one_hot(Y)\n",
        "    dZ2 = A2 - one_hot_Y\n",
        "    dW2 = 1 / m * dZ2.dot(A1.T)\n",
        "    db2 = 1 / m * np.sum(dZ2)\n",
        "    dZ1 = W2.T.dot(dZ2) * ReLU_deriv(Z1)\n",
        "    dW1 = 1 / m * dZ1.dot(X.T)\n",
        "    db1 = 1 / m * np.sum(dZ1)\n",
        "    return dW1, db1, dW2, db2"
      ],
      "metadata": {
        "id": "XenXgH6Bd6pp"
      },
      "execution_count": null,
      "outputs": []
    },
    {
      "cell_type": "code",
      "source": [
        "def update_params(W1, b1, W2, b2, dW1, db1, dW2, db2, alpha):\n",
        "    W1 = W1 - alpha * dW1\n",
        "    b1 = b1 - alpha * db1\n",
        "    W2 = W2 - alpha * dW2\n",
        "    b2 = b2 - alpha * db2\n",
        "    return W1, b1, W2, b2"
      ],
      "metadata": {
        "id": "3azZ0sAcd8SD"
      },
      "execution_count": null,
      "outputs": []
    },
    {
      "cell_type": "code",
      "source": [
        "def get_predictions(A2):\n",
        "    return np.argmax(A2, 0)"
      ],
      "metadata": {
        "id": "q1ucICU9d98B"
      },
      "execution_count": null,
      "outputs": []
    },
    {
      "cell_type": "code",
      "source": [
        "def get_accuracy(predictions, Y):\n",
        "    print(predictions, Y)\n",
        "    return np.sum(predictions == Y) / Y.size"
      ],
      "metadata": {
        "id": "kMC7spdkd_an"
      },
      "execution_count": null,
      "outputs": []
    },
    {
      "cell_type": "code",
      "source": [
        "# Example predicted vector and ground truth vector\n",
        "predicted = np.array([0, 1, 1, 0, 2])\n",
        "ground_truth = np.array([0, 1, 1, 0, 3])\n",
        "\n",
        "# Calculate accuracy\n",
        "accuracy = get_accuracy(predicted, ground_truth)\n",
        "print(\"Accuracy:\", accuracy)"
      ],
      "metadata": {
        "colab": {
          "base_uri": "https://localhost:8080/"
        },
        "id": "7TbNtI3TeXwm",
        "outputId": "c0b3685c-f177-457b-8299-eb2258198951"
      },
      "execution_count": null,
      "outputs": [
        {
          "output_type": "stream",
          "name": "stdout",
          "text": [
            "[0 1 1 0 2] [0 1 1 0 3]\n",
            "Accuracy: 0.8\n"
          ]
        }
      ]
    },
    {
      "cell_type": "code",
      "source": [
        "def dropout_forward(X, keep_prob):\n",
        "    D = np.random.rand(*X.shape) < keep_prob\n",
        "    A = X * D / keep_prob\n",
        "    return A, D\n",
        "\n",
        "def visualize_dropout(original_data, dropout_data, dropout_mask):\n",
        "    fig, axs = plt.subplots(1, 3, figsize=(12, 4))\n",
        "\n",
        "    axs[0].imshow(original_data.reshape(28, 28), cmap='gray')\n",
        "    axs[0].set_title(\"Original Data\")\n",
        "\n",
        "    axs[1].imshow(dropout_mask.reshape(28, 28), cmap='gray')\n",
        "    axs[1].set_title(\"Dropout Mask\")\n",
        "\n",
        "    axs[2].imshow(dropout_data.reshape(28, 28), cmap='gray')\n",
        "    axs[2].set_title(\"Data with Dropout\")\n",
        "\n",
        "    for ax in axs:\n",
        "        ax.axis('off')\n",
        "\n",
        "    plt.tight_layout()\n",
        "    plt.show()\n",
        "\n",
        "# # Example usage\n",
        "# input_size, m = X_train.shape # Number of examples\n",
        "# X = X_train.copy()\n",
        "# keep_prob = 0.8\n",
        "\n",
        "# # Select a random example index for visualization\n",
        "# example_index = np.random.randint(0, m)\n",
        "# print(example_index)\n",
        "# example_data = X[:, example_index].reshape(input_size, 1)\n",
        "\n",
        "# A, D = dropout_forward(example_data, keep_prob)\n",
        "# visualize_dropout(example_data, A, D)\n"
      ],
      "metadata": {
        "id": "qudOBsM7eAyx"
      },
      "execution_count": null,
      "outputs": []
    },
    {
      "cell_type": "code",
      "source": [
        "def gradient_descent(X, Y, alpha, iterations, keep_prob):\n",
        "    W1, b1, W2, b2 = init_params()\n",
        "    accuracy_scores = []\n",
        "    for i in range(iterations):\n",
        "        A, D = dropout_forward(X, keep_prob)\n",
        "        Z1, A1, Z2, A2 = forward_prop(W1, b1, W2, b2, A)\n",
        "        dW1, db1, dW2, db2 = backward_prop(Z1, A1, Z2, A2, W1, W2, A, Y)\n",
        "        W1, b1, W2, b2 = update_params(W1, b1, W2, b2, dW1, db1, dW2, db2, alpha)\n",
        "        if i % 10 == 0:\n",
        "            print(\"Iteration: \", i)\n",
        "            predictions = get_predictions(A2)\n",
        "            accuracy = get_accuracy(predictions, Y)\n",
        "            print(accuracy)\n",
        "            accuracy_scores.append((i, accuracy))\n",
        "\n",
        "    # Convert accuracy_scores to separate lists for plotting\n",
        "    iterations, accuracies = zip(*accuracy_scores)\n",
        "\n",
        "    # Plotting accuracy vs iterations\n",
        "    plt.plot(iterations, accuracies)\n",
        "    plt.xlabel('Iterations')\n",
        "    plt.ylabel('Accuracy')\n",
        "    plt.title('Accuracy vs Iterations')\n",
        "    plt.show()\n",
        "\n",
        "    return W1, b1, W2, b2"
      ],
      "metadata": {
        "id": "VGk6FoXreHzB"
      },
      "execution_count": null,
      "outputs": []
    },
    {
      "cell_type": "code",
      "source": [
        "keep_prob = 0.8\n",
        "W1, b1, W2, b2 = gradient_descent(X_train, Y_train, 0.10, 500, keep_prob)"
      ],
      "metadata": {
        "colab": {
          "base_uri": "https://localhost:8080/",
          "height": 1000
        },
        "id": "6hD3pzoIeJph",
        "outputId": "d18a231f-0b0c-4918-f32f-248348917a67"
      },
      "execution_count": null,
      "outputs": [
        {
          "output_type": "stream",
          "name": "stdout",
          "text": [
            "Iteration:  0\n",
            "[0 0 2 ... 9 5 3] [6 8 1 ... 8 0 2]\n",
            "0.09907317073170732\n",
            "Iteration:  10\n",
            "[0 0 2 ... 3 5 3] [6 8 1 ... 8 0 2]\n",
            "0.12409756097560976\n",
            "Iteration:  20\n",
            "[1 9 2 ... 6 0 3] [6 8 1 ... 8 0 2]\n",
            "0.18482926829268292\n",
            "Iteration:  30\n",
            "[8 0 6 ... 6 0 3] [6 8 1 ... 8 0 2]\n",
            "0.25053658536585366\n",
            "Iteration:  40\n",
            "[2 9 1 ... 6 0 6] [6 8 1 ... 8 0 2]\n",
            "0.29778048780487804\n",
            "Iteration:  50\n",
            "[4 9 1 ... 6 0 3] [6 8 1 ... 8 0 2]\n",
            "0.34019512195121954\n",
            "Iteration:  60\n",
            "[7 8 1 ... 5 0 3] [6 8 1 ... 8 0 2]\n",
            "0.37909756097560976\n",
            "Iteration:  70\n",
            "[6 1 1 ... 5 0 3] [6 8 1 ... 8 0 2]\n",
            "0.4141951219512195\n",
            "Iteration:  80\n",
            "[7 8 1 ... 6 0 1] [6 8 1 ... 8 0 2]\n",
            "0.4448536585365854\n",
            "Iteration:  90\n",
            "[2 8 1 ... 6 0 6] [6 8 1 ... 8 0 2]\n",
            "0.47236585365853656\n",
            "Iteration:  100\n",
            "[2 4 1 ... 1 0 1] [6 8 1 ... 8 0 2]\n",
            "0.49978048780487805\n",
            "Iteration:  110\n",
            "[6 8 1 ... 5 0 1] [6 8 1 ... 8 0 2]\n",
            "0.5263170731707317\n",
            "Iteration:  120\n",
            "[6 3 1 ... 6 0 3] [6 8 1 ... 8 0 2]\n",
            "0.5459024390243903\n",
            "Iteration:  130\n",
            "[8 8 8 ... 6 0 1] [6 8 1 ... 8 0 2]\n",
            "0.5600243902439025\n",
            "Iteration:  140\n",
            "[6 4 1 ... 3 0 1] [6 8 1 ... 8 0 2]\n",
            "0.5794878048780487\n",
            "Iteration:  150\n",
            "[6 8 1 ... 5 0 1] [6 8 1 ... 8 0 2]\n",
            "0.5961219512195122\n",
            "Iteration:  160\n",
            "[6 8 1 ... 6 0 1] [6 8 1 ... 8 0 2]\n",
            "0.6118292682926829\n",
            "Iteration:  170\n",
            "[8 8 1 ... 6 0 2] [6 8 1 ... 8 0 2]\n",
            "0.6254390243902439\n",
            "Iteration:  180\n",
            "[6 8 1 ... 8 0 2] [6 8 1 ... 8 0 2]\n",
            "0.6349024390243903\n",
            "Iteration:  190\n",
            "[8 8 1 ... 6 0 2] [6 8 1 ... 8 0 2]\n",
            "0.643390243902439\n",
            "Iteration:  200\n",
            "[1 8 1 ... 8 0 3] [6 8 1 ... 8 0 2]\n",
            "0.6541463414634147\n",
            "Iteration:  210\n",
            "[6 8 1 ... 6 0 2] [6 8 1 ... 8 0 2]\n",
            "0.6624146341463415\n",
            "Iteration:  220\n",
            "[2 5 2 ... 6 0 2] [6 8 1 ... 8 0 2]\n",
            "0.6704634146341464\n",
            "Iteration:  230\n",
            "[6 5 1 ... 5 0 1] [6 8 1 ... 8 0 2]\n",
            "0.6815853658536586\n",
            "Iteration:  240\n",
            "[8 8 1 ... 5 0 1] [6 8 1 ... 8 0 2]\n",
            "0.6895853658536585\n",
            "Iteration:  250\n",
            "[8 5 8 ... 5 0 2] [6 8 1 ... 8 0 2]\n",
            "0.6926097560975609\n",
            "Iteration:  260\n",
            "[2 8 1 ... 5 0 2] [6 8 1 ... 8 0 2]\n",
            "0.7027073170731707\n",
            "Iteration:  270\n",
            "[6 8 1 ... 6 0 2] [6 8 1 ... 8 0 2]\n",
            "0.705390243902439\n",
            "Iteration:  280\n",
            "[6 8 1 ... 8 0 1] [6 8 1 ... 8 0 2]\n",
            "0.7094634146341463\n",
            "Iteration:  290\n",
            "[6 8 1 ... 5 0 2] [6 8 1 ... 8 0 2]\n",
            "0.7158048780487805\n",
            "Iteration:  300\n",
            "[6 8 8 ... 6 0 3] [6 8 1 ... 8 0 2]\n",
            "0.7215121951219512\n",
            "Iteration:  310\n",
            "[2 5 1 ... 6 0 2] [6 8 1 ... 8 0 2]\n",
            "0.7252926829268292\n",
            "Iteration:  320\n",
            "[6 8 1 ... 3 0 2] [6 8 1 ... 8 0 2]\n",
            "0.7331707317073171\n",
            "Iteration:  330\n",
            "[5 8 1 ... 6 0 2] [6 8 1 ... 8 0 2]\n",
            "0.7331707317073171\n",
            "Iteration:  340\n",
            "[6 8 1 ... 6 0 2] [6 8 1 ... 8 0 2]\n",
            "0.7389756097560976\n",
            "Iteration:  350\n",
            "[6 8 1 ... 6 0 2] [6 8 1 ... 8 0 2]\n",
            "0.7402195121951219\n",
            "Iteration:  360\n",
            "[6 5 1 ... 5 0 2] [6 8 1 ... 8 0 2]\n",
            "0.7439512195121951\n",
            "Iteration:  370\n",
            "[6 8 8 ... 3 0 3] [6 8 1 ... 8 0 2]\n",
            "0.7471463414634146\n",
            "Iteration:  380\n",
            "[6 3 1 ... 6 0 1] [6 8 1 ... 8 0 2]\n",
            "0.7509268292682927\n",
            "Iteration:  390\n",
            "[8 8 1 ... 6 0 2] [6 8 1 ... 8 0 2]\n",
            "0.7549512195121951\n",
            "Iteration:  400\n",
            "[6 8 1 ... 5 0 2] [6 8 1 ... 8 0 2]\n",
            "0.7548292682926829\n",
            "Iteration:  410\n",
            "[6 8 1 ... 6 0 2] [6 8 1 ... 8 0 2]\n",
            "0.7574878048780488\n",
            "Iteration:  420\n",
            "[6 8 1 ... 6 0 2] [6 8 1 ... 8 0 2]\n",
            "0.7607560975609756\n",
            "Iteration:  430\n",
            "[8 8 1 ... 6 0 2] [6 8 1 ... 8 0 2]\n",
            "0.7667804878048781\n",
            "Iteration:  440\n",
            "[6 8 1 ... 6 0 2] [6 8 1 ... 8 0 2]\n",
            "0.7627560975609756\n",
            "Iteration:  450\n",
            "[6 8 1 ... 8 0 2] [6 8 1 ... 8 0 2]\n",
            "0.7650487804878049\n",
            "Iteration:  460\n",
            "[8 5 1 ... 6 0 2] [6 8 1 ... 8 0 2]\n",
            "0.7714878048780488\n",
            "Iteration:  470\n",
            "[6 8 1 ... 5 0 2] [6 8 1 ... 8 0 2]\n",
            "0.7724390243902439\n",
            "Iteration:  480\n",
            "[6 8 1 ... 6 0 2] [6 8 1 ... 8 0 2]\n",
            "0.774829268292683\n",
            "Iteration:  490\n",
            "[6 8 1 ... 6 0 2] [6 8 1 ... 8 0 2]\n",
            "0.7754878048780488\n"
          ]
        },
        {
          "output_type": "display_data",
          "data": {
            "text/plain": [
              "<Figure size 640x480 with 1 Axes>"
            ],
            "image/png": "[encoded data removed]"
          },
          "metadata": {}
        }
      ]
    },
    {
      "cell_type": "code",
      "source": [
        "def make_predictions(X, W1, b1, W2, b2):\n",
        "    _, _, _, A2 = forward_prop(W1, b1, W2, b2, X)\n",
        "    predictions = get_predictions(A2)\n",
        "    return predictions"
      ],
      "metadata": {
        "id": "niXjgRN2eePm"
      },
      "execution_count": null,
      "outputs": []
    },
    {
      "cell_type": "code",
      "source": [
        "def test_prediction(index, W1, b1, W2, b2):\n",
        "    current_image = X_train[:, index, None]\n",
        "    prediction = make_predictions(X_train[:, index, None], W1, b1, W2, b2)\n",
        "    label = Y_train[index]\n",
        "    print(\"Prediction: \", prediction)\n",
        "    print(\"Label: \", label)\n",
        "\n",
        "    current_image = current_image.reshape((28, 28)) * 255\n",
        "    plt.gray()\n",
        "    plt.imshow(current_image, interpolation='nearest')\n",
        "    plt.show()"
      ],
      "metadata": {
        "id": "X2EJ6GIDegcb"
      },
      "execution_count": null,
      "outputs": []
    },
    {
      "cell_type": "code",
      "source": [
        "test_prediction(0, W1, b1, W2, b2)\n",
        "test_prediction(1, W1, b1, W2, b2)\n",
        "test_prediction(2, W1, b1, W2, b2)\n",
        "test_prediction(3, W1, b1, W2, b2)"
      ],
      "metadata": {
        "colab": {
          "base_uri": "https://localhost:8080/",
          "height": 1000
        },
        "id": "8O08ERFCeh2m",
        "outputId": "610da181-732e-485f-fe3b-63a42ff70939"
      },
      "execution_count": null,
      "outputs": [
        {
          "output_type": "stream",
          "name": "stdout",
          "text": [
            "Prediction:  [6]\n",
            "Label:  6\n"
          ]
        },
        {
          "output_type": "display_data",
          "data": {
            "text/plain": [
              "<Figure size 640x480 with 1 Axes>"
            ],
            "image/png": "[encoded data removed]"
          },
          "metadata": {}
        },
        {
          "output_type": "stream",
          "name": "stdout",
          "text": [
            "Prediction:  [8]\n",
            "Label:  8\n"
          ]
        },
        {
          "output_type": "display_data",
          "data": {
            "text/plain": [
              "<Figure size 640x480 with 1 Axes>"
            ],
            "image/png": "[encoded data removed]"
          },
          "metadata": {}
        },
        {
          "output_type": "stream",
          "name": "stdout",
          "text": [
            "Prediction:  [1]\n",
            "Label:  1\n"
          ]
        },
        {
          "output_type": "display_data",
          "data": {
            "text/plain": [
              "<Figure size 640x480 with 1 Axes>"
            ],
            "image/png": "[encoded data removed]"
          },
          "metadata": {}
        },
        {
          "output_type": "stream",
          "name": "stdout",
          "text": [
            "Prediction:  [4]\n",
            "Label:  4\n"
          ]
        },
        {
          "output_type": "display_data",
          "data": {
            "text/plain": [
              "<Figure size 640x480 with 1 Axes>"
            ],
            "image/png": "[encoded data removed]"
          },
          "metadata": {}
        }
      ]
    },
    {
      "cell_type": "code",
      "source": [
        "test_predictions = make_predictions(X_test, W1, b1, W2, b2)\n",
        "get_accuracy(test_predictions, Y_test)"
      ],
      "metadata": {
        "colab": {
          "base_uri": "https://localhost:8080/"
        },
        "id": "YXIlS1SFelVJ",
        "outputId": "fdfa7ef7-8b5e-47cc-d11f-94fb349940f9"
      },
      "execution_count": null,
      "outputs": [
        {
          "output_type": "stream",
          "name": "stdout",
          "text": [
            "[1 5 9 9 9 3 2 1 8 4 1 6 0 8 2 2 1 3 5 5 3 6 1 0 7 8 5 9 8 9 2 3 6 1 0 1 3\n",
            " 4 2 5 8 2 7 9 4 0 1 8 2 0 8 1 9 4 8 2 3 4 7 8 9 4 8 8 9 2 6 1 8 1 2 0 3 2\n",
            " 7 2 1 8 6 0 5 4 1 3 2 8 3 9 6 7 2 9 8 6 8 7 9 2 6 4 2 1 5 9 3 5 4 5 4 9 4\n",
            " 9 6 5 6 7 3 2 0 0 0 4 8 5 2 9 4 8 0 9 9 4 5 9 5 3 1 2 3 0 4 6 8 3 4 4 7 7\n",
            " 2 2 4 9 8 7 3 3 4 8 6 0 6 2 2 4 4 8 0 8 7 0 2 6 4 9 5 5 9 8 0 1 2 2 3 1 7\n",
            " 7 4 1 3 1 2 1 4 0 1 0 1 9 6 3 8 4 5 1 4 5 8 7 1 2 7 2 1 8 0 6 6 3 9 5 6 1\n",
            " 8 9 7 1 6 8 8 7 6 7 9 6 8 7 9 0 6 3 7 6 2 6 3 8 4 4 8 9 6 1 7 1 7 1 2 8 9\n",
            " 6 7 6 9 1 3 7 9 5 4 1 5 3 7 3 7 2 0 6 4 7 5 0 8 6 1 6 0 9 5 9 2 7 5 7 8 9\n",
            " 3 1 9 7 7 7 1 7 9 8 7 6 3 4 9 6 3 0 2 8 5 5 8 0 8 0 3 9 8 4 9 0 9 4 9 6 0\n",
            " 3 3 9 9 8 5 1 2 9 4 5 4 4 7 7 3 6 6 4 8 0 9 4 1 2 9 3 9 3 0 2 2 3 8 6 0 7\n",
            " 6 7 1 9 3 0 9 4 8 7 1 7 3 0 2 1 5 7 0 2 1 0 1 6 8 4 8 8 9 6 2 0 3 6 8 3 7\n",
            " 7 0 1 4 3 4 1 3 8 3 9 9 2 7 3 3 3 9 6 5 9 6 5 3 3 9 5 3 7 6 0 5 4 6 7 5 9\n",
            " 4 9 5 8 1 4 1 5 4 1 6 4 9 9 9 0 5 7 7 5 1 2 0 6 3 5 2 3 2 0 3 7 9 7 9 9 5\n",
            " 7 9 6 0 4 4 6 2 5 6 0 2 6 4 3 5 4 7 4 8 3 1 4 8 2 0 1 4 3 2 3 7 1 1 5 4 2\n",
            " 9 8 5 4 7 4 9 9 0 8 6 8 5 0 8 8 0 4 2 0 2 7 4 3 9 3 1 7 1 9 7 1 6 2 4 8 8\n",
            " 2 8 7 4 4 6 2 1 0 1 8 2 6 1 5 6 8 0 8 6 9 6 4 0 6 0 2 8 3 6 4 7 8 1 3 8 5\n",
            " 1 1 2 2 6 4 8 1 8 1 0 1 2 0 8 7 7 5 1 3 7 5 5 4 3 8 4 2 2 8 7 8 6 3 4 5 8\n",
            " 6 1 8 5 2 4 7 4 5 6 6 1 1 1 6 8 6 7 3 8 4 2 8 3 0 1 0 5 2 6 9 1 3 4 7 9 8\n",
            " 8 8 6 0 8 8 2 5 3 7 9 9 1 2 3 7 7 0 0 5 1 9 4 7 7 5 3 6 6 5 2 5 6 1 6 8 1\n",
            " 0 9 3 9 1 6 0 9 3 3 4 0 3 9 6 0 2 3 3 4 1 1 4 6 6 8 8 2 4 6 0 8 6 2 9 2 0\n",
            " 1 1 3 8 7 6 4 4 1 3 9 5 6 1 6 5 6 4 9 8 5 6 6 2 8 7 7 8 9 1 1 5 4 5 9 6 0\n",
            " 1 4 0 5 7 7 8 8 3 1 4 4 6 1 4 1 7 6 7 7 2 7 6 9 4 4 7 4 0 3 5 0 8 6 3 1 3\n",
            " 4 1 1 1 8 3 9 7 8 7 8 9 4 6 7 1 0 7 3 6 5 8 4 9 7 0 5 3 1 1 9 5 6 7 4 0 3\n",
            " 3 7 3 3 9 1 2 0 3 7 2 0 8 2 6 6 7 7 4 8 3 7 3 8 1 8 0 4 4 3 0 8 9 2 9 1 1\n",
            " 9 7 6 9 4 8 4 0 2 5 4 6 3 8 3 3 8 6 8 5 3 6 5 0 5 1 0 1 9 7 6 6 2 0 4 9 8\n",
            " 7 2 2 2 3 4 2 0 3 5 2 9 4 6 9 3 1 0 7 9 3 6 3 6 6 2 5 7 2 1 5 1 0 3 9 1 2\n",
            " 4 9 7 5 9 3 8 2 8 5 1 9 4 7 9 5 0 5 9 7 0 1 8 6 7 8 7 3 2 4 5 4 7 2 8 5 0\n",
            " 4] [1 5 4 9 7 5 2 1 8 4 1 6 0 7 2 2 1 5 5 5 3 6 2 0 3 8 5 9 8 9 2 3 6 6 0 1 3\n",
            " 4 2 5 8 2 7 9 4 0 1 5 2 0 8 1 9 4 8 2 3 9 7 8 9 4 8 8 9 2 6 1 9 1 2 0 3 2\n",
            " 7 2 1 3 0 0 5 4 1 3 2 8 3 9 2 7 2 9 2 6 8 7 4 2 6 4 2 1 5 9 3 5 4 5 4 9 4\n",
            " 9 5 8 6 7 3 2 6 0 0 4 8 5 2 9 4 8 0 9 9 4 5 5 3 3 1 2 3 0 4 6 2 3 4 4 7 7\n",
            " 2 1 4 9 8 7 3 3 4 8 5 0 6 2 2 4 4 8 0 3 7 0 2 6 4 9 5 5 9 8 0 1 2 2 3 8 7\n",
            " 7 4 1 5 1 2 1 4 0 1 0 1 9 6 8 5 4 5 1 4 5 5 7 1 2 7 2 1 8 0 6 6 3 4 5 6 1\n",
            " 8 9 7 1 6 3 8 7 2 7 9 6 8 7 9 2 6 3 9 6 2 6 3 9 4 4 5 9 6 1 7 1 7 1 2 8 9\n",
            " 6 7 6 8 1 3 7 9 5 2 1 5 3 7 3 7 8 0 6 4 9 5 0 8 6 1 6 0 9 5 8 2 7 3 7 5 9\n",
            " 9 1 9 7 7 7 1 7 9 8 7 6 3 4 9 5 3 0 8 4 5 5 0 0 1 0 3 4 8 4 4 0 4 4 9 6 0\n",
            " 2 3 8 8 5 5 1 2 9 4 5 6 4 7 7 3 6 6 4 8 0 9 8 1 5 9 3 9 3 0 2 2 3 8 6 3 7\n",
            " 6 7 1 9 3 0 9 4 8 7 1 7 3 0 2 1 8 7 0 2 1 0 1 6 8 4 5 8 9 6 2 0 3 6 5 3 7\n",
            " 7 0 1 9 3 4 1 3 8 3 9 7 2 3 3 3 3 9 6 0 9 6 5 9 3 4 5 3 7 6 0 5 2 2 7 5 4\n",
            " 4 9 8 8 1 4 1 5 9 4 6 9 9 9 7 0 8 7 7 5 1 2 5 6 2 9 2 3 2 0 3 7 9 7 9 9 5\n",
            " 9 9 6 0 9 4 6 3 5 4 0 2 6 4 3 5 4 7 4 8 3 1 4 8 2 2 2 4 3 2 5 7 1 1 5 4 2\n",
            " 4 3 5 4 7 4 9 9 0 8 6 8 3 0 8 8 0 4 2 0 6 7 4 9 9 3 1 7 3 9 7 1 6 2 4 8 8\n",
            " 6 8 7 9 4 6 2 1 0 1 8 2 6 1 3 6 8 0 8 6 9 5 4 0 6 0 2 5 3 6 4 7 8 1 3 8 5\n",
            " 1 1 2 2 6 4 8 1 8 5 3 1 2 0 6 7 7 5 1 3 7 5 0 4 3 8 4 2 2 8 7 8 6 3 4 5 8\n",
            " 6 1 8 5 2 4 9 4 3 6 6 1 1 1 6 8 6 7 3 8 5 2 8 3 0 1 0 9 2 6 9 1 3 4 7 9 8\n",
            " 8 8 6 0 8 8 2 5 3 7 9 9 1 2 3 7 7 0 0 5 1 9 4 7 7 5 5 6 6 5 2 5 6 1 6 8 1\n",
            " 0 2 3 7 1 6 0 4 3 8 4 0 3 4 6 0 2 3 3 9 1 1 4 6 6 8 8 2 9 6 0 8 5 2 9 2 0\n",
            " 1 1 3 9 7 6 4 4 1 5 9 5 6 1 6 5 6 4 9 8 5 6 6 2 8 7 7 8 8 1 1 5 4 5 9 6 0\n",
            " 1 8 0 5 7 7 8 8 9 8 4 4 6 8 9 1 7 2 7 7 2 7 6 9 4 4 9 4 0 3 2 0 3 6 3 7 3\n",
            " 4 1 1 1 7 3 9 7 5 2 2 9 4 6 3 1 0 7 3 4 5 8 4 9 7 0 5 3 1 1 9 5 6 7 4 0 5\n",
            " 3 7 3 3 7 1 6 9 6 7 2 0 8 2 6 6 7 7 4 8 3 7 3 9 1 8 0 4 4 3 0 8 4 2 9 1 1\n",
            " 9 7 6 7 5 8 4 0 2 5 4 6 3 8 3 5 8 6 8 5 3 6 5 0 5 1 0 1 9 1 2 6 2 0 4 9 8\n",
            " 7 2 2 2 3 4 2 0 3 8 7 8 4 6 9 3 1 0 9 9 0 6 3 6 6 2 5 7 2 1 5 1 0 3 9 5 2\n",
            " 4 9 8 5 9 3 8 2 8 5 1 4 4 7 4 5 0 5 9 7 0 1 3 6 7 8 7 3 2 4 8 4 7 2 8 5 0\n",
            " 4]\n"
          ]
        },
        {
          "output_type": "execute_result",
          "data": {
            "text/plain": [
              "0.841"
            ]
          },
          "metadata": {},
          "execution_count": 201
        }
      ]
    }
  ]
}